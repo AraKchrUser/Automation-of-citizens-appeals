{
  "nbformat": 4,
  "nbformat_minor": 0,
  "metadata": {
    "colab": {
      "name": "pps_2.ipynb",
      "provenance": [],
      "collapsed_sections": [
        "oaT1Z7uiQ3Xo",
        "fOIApubnQt-p",
        "VhTf7MOGQwfQ",
        "2uszvNu8Qy5v",
        "xfI5nG_aOX4G",
        "8QqiIx_tnpLj",
        "duuw4HtRnsd4",
        "BnBbwJvCnxTE"
      ],
      "authorship_tag": "ABX9TyMPzgtd2WCWFXTVEFVyALWd",
      "include_colab_link": true
    },
    "kernelspec": {
      "name": "python3",
      "display_name": "Python 3"
    },
    "language_info": {
      "name": "python"
    }
  },
  "cells": [
    {
      "cell_type": "markdown",
      "metadata": {
        "id": "view-in-github",
        "colab_type": "text"
      },
      "source": [
        "<a href=\"https://colab.research.google.com/github/AraKchrUser/Automation-of-citizens-appeals/blob/master/pps_2.ipynb\" target=\"_parent\"><img src=\"https://colab.research.google.com/assets/colab-badge.svg\" alt=\"Open In Colab\"/></a>"
      ]
    },
    {
      "cell_type": "code",
      "source": [
        "# "
      ],
      "metadata": {
        "id": "rYk-Mf0fS973"
      },
      "execution_count": null,
      "outputs": []
    },
    {
      "cell_type": "markdown",
      "source": [
        "# PPS1"
      ],
      "metadata": {
        "id": "vtzVHDo9S_gG"
      }
    },
    {
      "cell_type": "code",
      "execution_count": null,
      "metadata": {
        "id": "gTHEvGKwEWSr"
      },
      "outputs": [],
      "source": [
        "!pip install transformers\n",
        "!pip install deeppavlov\n",
        "!python -m deeppavlov install squad_bert"
      ]
    },
    {
      "cell_type": "code",
      "source": [
        "!pip install pymorphy2\n",
        "!pip install pymorphy2-dicts\n",
        "!pip install DAWG-Python"
      ],
      "metadata": {
        "id": "k0ALanlqEdxv"
      },
      "execution_count": null,
      "outputs": []
    },
    {
      "cell_type": "code",
      "source": [
        "import numpy as np\n",
        "\n",
        "import deeppavlov\n",
        "from deeppavlov import configs\n",
        "from deeppavlov.core.common.file import read_json\n",
        "from deeppavlov.core.commands.infer import build_model\n",
        "from deeppavlov import configs, train_model\n"
      ],
      "metadata": {
        "id": "A6pEniccEdvf"
      },
      "execution_count": 37,
      "outputs": []
    },
    {
      "cell_type": "markdown",
      "source": [
        "### SQUAD"
      ],
      "metadata": {
        "id": "oaT1Z7uiQ3Xo"
      }
    },
    {
      "cell_type": "code",
      "source": [
        "# Squad\n",
        "model_ru = build_model(configs.squad.squad_ru_rubert, download=True)"
      ],
      "metadata": {
        "id": "oHO9BkazG0Y_",
        "colab": {
          "base_uri": "https://localhost:8080/"
        },
        "outputId": "1e6647be-0156-4ea6-9603-4e58083935da"
      },
      "execution_count": null,
      "outputs": [
        {
          "output_type": "stream",
          "name": "stderr",
          "text": [
            "/usr/local/lib/python3.7/dist-packages/cryptography/hazmat/backends/openssl/x509.py:17: CryptographyDeprecationWarning: This version of cryptography contains a temporary pyOpenSSL fallback path. Upgrade pyOpenSSL now.\n",
            "  utils.DeprecatedIn35,\n",
            "2022-02-03 05:39:47.922 INFO in 'deeppavlov.core.data.utils'['utils'] at line 95: Downloading from http://files.deeppavlov.ai/deeppavlov_data/squad_model_ru_rubert.tar.gz to /root/.deeppavlov/squad_model_ru_rubert.tar.gz\n",
            "100%|██████████| 659M/659M [00:32<00:00, 20.3MB/s]\n",
            "2022-02-03 05:40:21.423 INFO in 'deeppavlov.core.data.utils'['utils'] at line 272: Extracting /root/.deeppavlov/squad_model_ru_rubert.tar.gz archive into /root/.deeppavlov/models\n",
            "2022-02-03 05:40:29.662 INFO in 'deeppavlov.core.data.utils'['utils'] at line 95: Downloading from http://files.deeppavlov.ai/deeppavlov_data/bert/rubert_cased_L-12_H-768_A-12_v1.tar.gz to /root/.deeppavlov/downloads/rubert_cased_L-12_H-768_A-12_v1.tar.gz\n",
            "100%|██████████| 666M/666M [00:32<00:00, 20.3MB/s]\n",
            "2022-02-03 05:41:03.436 INFO in 'deeppavlov.core.data.utils'['utils'] at line 272: Extracting /root/.deeppavlov/downloads/rubert_cased_L-12_H-768_A-12_v1.tar.gz archive into /root/.deeppavlov/downloads/bert_models\n",
            "[nltk_data] Downloading package punkt to /root/nltk_data...\n",
            "[nltk_data]   Unzipping tokenizers/punkt.zip.\n",
            "[nltk_data] Downloading package stopwords to /root/nltk_data...\n",
            "[nltk_data]   Unzipping corpora/stopwords.zip.\n",
            "[nltk_data] Downloading package perluniprops to /root/nltk_data...\n",
            "[nltk_data]   Unzipping misc/perluniprops.zip.\n",
            "[nltk_data] Downloading package nonbreaking_prefixes to\n",
            "[nltk_data]     /root/nltk_data...\n",
            "[nltk_data]   Unzipping corpora/nonbreaking_prefixes.zip.\n"
          ]
        },
        {
          "output_type": "stream",
          "name": "stdout",
          "text": [
            "WARNING:tensorflow:From /usr/local/lib/python3.7/dist-packages/bert_dp/tokenization.py:125: The name tf.gfile.GFile is deprecated. Please use tf.io.gfile.GFile instead.\n",
            "\n",
            "WARNING:tensorflow:From /usr/local/lib/python3.7/dist-packages/deeppavlov/core/models/tf_model.py:37: The name tf.Session is deprecated. Please use tf.compat.v1.Session instead.\n",
            "\n",
            "WARNING:tensorflow:From /usr/local/lib/python3.7/dist-packages/deeppavlov/core/models/tf_model.py:222: The name tf.placeholder is deprecated. Please use tf.compat.v1.placeholder instead.\n",
            "\n",
            "WARNING:tensorflow:From /usr/local/lib/python3.7/dist-packages/deeppavlov/core/models/tf_model.py:222: The name tf.train.Optimizer is deprecated. Please use tf.compat.v1.train.Optimizer instead.\n",
            "\n",
            "WARNING:tensorflow:From /usr/local/lib/python3.7/dist-packages/deeppavlov/core/models/tf_model.py:193: The name tf.train.AdamOptimizer is deprecated. Please use tf.compat.v1.train.AdamOptimizer instead.\n",
            "\n",
            "WARNING:tensorflow:From /usr/local/lib/python3.7/dist-packages/deeppavlov/models/bert/bert_squad.py:81: The name tf.ConfigProto is deprecated. Please use tf.compat.v1.ConfigProto instead.\n",
            "\n",
            "WARNING:tensorflow:From /usr/local/lib/python3.7/dist-packages/deeppavlov/models/bert/bert_squad.py:178: The name tf.placeholder_with_default is deprecated. Please use tf.compat.v1.placeholder_with_default instead.\n",
            "\n",
            "WARNING:tensorflow:From /usr/local/lib/python3.7/dist-packages/bert_dp/modeling.py:178: The name tf.variable_scope is deprecated. Please use tf.compat.v1.variable_scope instead.\n",
            "\n",
            "WARNING:tensorflow:From /usr/local/lib/python3.7/dist-packages/bert_dp/modeling.py:418: The name tf.get_variable is deprecated. Please use tf.compat.v1.get_variable instead.\n",
            "\n",
            "WARNING:tensorflow:From /usr/local/lib/python3.7/dist-packages/bert_dp/modeling.py:499: The name tf.assert_less_equal is deprecated. Please use tf.compat.v1.assert_less_equal instead.\n",
            "\n",
            "WARNING:tensorflow:\n",
            "The TensorFlow contrib module will not be included in TensorFlow 2.0.\n",
            "For more information, please see:\n",
            "  * https://github.com/tensorflow/community/blob/master/rfcs/20180907-contrib-sunset.md\n",
            "  * https://github.com/tensorflow/addons\n",
            "  * https://github.com/tensorflow/io (for I/O related ops)\n",
            "If you depend on functionality not listed there, please file an issue.\n",
            "\n",
            "WARNING:tensorflow:From /usr/local/lib/python3.7/dist-packages/bert_dp/modeling.py:366: calling dropout (from tensorflow.python.ops.nn_ops) with keep_prob is deprecated and will be removed in a future version.\n",
            "Instructions for updating:\n",
            "Please use `rate` instead of `keep_prob`. Rate should be set to `rate = 1 - keep_prob`.\n",
            "WARNING:tensorflow:From /usr/local/lib/python3.7/dist-packages/bert_dp/modeling.py:680: dense (from tensorflow.python.layers.core) is deprecated and will be removed in a future version.\n",
            "Instructions for updating:\n",
            "Use keras.layers.Dense instead.\n",
            "WARNING:tensorflow:From /usr/local/lib/python3.7/dist-packages/tensorflow_core/python/layers/core.py:187: Layer.apply (from tensorflow.python.keras.engine.base_layer) is deprecated and will be removed in a future version.\n",
            "Instructions for updating:\n",
            "Please use `layer.__call__` method instead.\n",
            "WARNING:tensorflow:From /usr/local/lib/python3.7/dist-packages/bert_dp/modeling.py:283: The name tf.erf is deprecated. Please use tf.math.erf instead.\n",
            "\n",
            "WARNING:tensorflow:From /usr/local/lib/python3.7/dist-packages/deeppavlov/models/bert/bert_squad.py:154: The name tf.matrix_band_part is deprecated. Please use tf.linalg.band_part instead.\n",
            "\n",
            "WARNING:tensorflow:From /usr/local/lib/python3.7/dist-packages/deeppavlov/models/bert/bert_squad.py:166: softmax_cross_entropy_with_logits (from tensorflow.python.ops.nn_ops) is deprecated and will be removed in a future version.\n",
            "Instructions for updating:\n",
            "\n",
            "Future major versions of TensorFlow will allow gradients to flow\n",
            "into the labels input on backprop by default.\n",
            "\n",
            "See `tf.nn.softmax_cross_entropy_with_logits_v2`.\n",
            "\n",
            "WARNING:tensorflow:From /usr/local/lib/python3.7/dist-packages/deeppavlov/core/models/tf_model.py:234: The name tf.train.AdadeltaOptimizer is deprecated. Please use tf.compat.v1.train.AdadeltaOptimizer instead.\n",
            "\n",
            "WARNING:tensorflow:From /usr/local/lib/python3.7/dist-packages/deeppavlov/core/models/tf_model.py:127: The name tf.get_collection is deprecated. Please use tf.compat.v1.get_collection instead.\n",
            "\n",
            "WARNING:tensorflow:From /usr/local/lib/python3.7/dist-packages/deeppavlov/core/models/tf_model.py:127: The name tf.GraphKeys is deprecated. Please use tf.compat.v1.GraphKeys instead.\n",
            "\n",
            "WARNING:tensorflow:From /usr/local/lib/python3.7/dist-packages/deeppavlov/models/bert/bert_squad.py:89: The name tf.global_variables_initializer is deprecated. Please use tf.compat.v1.global_variables_initializer instead.\n",
            "\n",
            "WARNING:tensorflow:From /usr/local/lib/python3.7/dist-packages/deeppavlov/models/bert/bert_squad.py:94: checkpoint_exists (from tensorflow.python.training.checkpoint_management) is deprecated and will be removed in a future version.\n",
            "Instructions for updating:\n",
            "Use standard file APIs to check for files with this prefix.\n"
          ]
        },
        {
          "output_type": "stream",
          "name": "stderr",
          "text": [
            "2022-02-03 05:41:40.640 INFO in 'deeppavlov.core.models.tf_model'['tf_model'] at line 51: [loading model from /root/.deeppavlov/models/squad_ru_bert/model_rubert]\n"
          ]
        },
        {
          "output_type": "stream",
          "name": "stdout",
          "text": [
            "WARNING:tensorflow:From /usr/local/lib/python3.7/dist-packages/deeppavlov/core/models/tf_model.py:54: The name tf.train.Saver is deprecated. Please use tf.compat.v1.train.Saver instead.\n",
            "\n",
            "INFO:tensorflow:Restoring parameters from /root/.deeppavlov/models/squad_ru_bert/model_rubert\n"
          ]
        }
      ]
    },
    {
      "cell_type": "code",
      "source": [
        "text = ''' В этом году в Благовещенске участвуют в программе более 100 дворов. 12.24.2021 завершаются ремонтные \n",
        "работы на улице Ленина 165. Академический театр драмы обновляется в соответствии с решением губернатора. Также \n",
        "13.34.2035 начинаются работы на Богдана-Хмельницкого 156, построят 153 ловочек, 8 тренажеров.'''\n",
        "\n",
        "print(model_ru([text], ['Когда заканчиваются работы на улице Ленина 165'])[0])\n",
        "print(model_ru([text], ['Сколько дворов участвуют в программе в Благовещенск']))\n",
        "print(model_ru([text], ['Что будет сделано там на Богдана-Хмельницкого 156']))"
      ],
      "metadata": {
        "colab": {
          "base_uri": "https://localhost:8080/"
        },
        "id": "IBhPWeG2QtYp",
        "outputId": "6e986a35-d70e-4b09-86cc-1630c5a5ba64"
      },
      "execution_count": null,
      "outputs": [
        {
          "output_type": "stream",
          "name": "stdout",
          "text": [
            "['12.24.2021']\n",
            "[['более 100 дворов'], [51], [2248389.5]]\n",
            "[['построят 153 ловочек, 8 тренажеров'], [273], [68773.421875]]\n"
          ]
        }
      ]
    },
    {
      "cell_type": "code",
      "source": [
        "# process('Сколько дворов участвуют в программе в ', 'B-GPE', 'I-GPE', 'город')"
      ],
      "metadata": {
        "id": "G22WPS-fWIXq"
      },
      "execution_count": null,
      "outputs": []
    },
    {
      "cell_type": "code",
      "source": [
        ""
      ],
      "metadata": {
        "id": "dw2wQ6hjXDcC"
      },
      "execution_count": null,
      "outputs": []
    },
    {
      "cell_type": "markdown",
      "source": [
        "### NER"
      ],
      "metadata": {
        "id": "fOIApubnQt-p"
      }
    },
    {
      "cell_type": "code",
      "source": [
        "# build - NER\n",
        "ner_model = build_model(configs.ner.ner_ontonotes_bert_mult, download=True)"
      ],
      "metadata": {
        "id": "K2uTOWkNEkA3"
      },
      "execution_count": null,
      "outputs": []
    },
    {
      "cell_type": "code",
      "source": [
        ""
      ],
      "metadata": {
        "id": "gqJHvcR5bf5I"
      },
      "execution_count": null,
      "outputs": []
    },
    {
      "cell_type": "code",
      "source": [
        "text = \"\"\"Введут ли работы на ул. Загородная 165 и на Студенческой в г. Благовещенске?\"\"\"\n",
        "print(ner_model([text])[0][0], ner_model([text])[1][0], sep='\\n')"
      ],
      "metadata": {
        "id": "mwHUPEaZHlMQ",
        "colab": {
          "base_uri": "https://localhost:8080/"
        },
        "outputId": "06027ec0-f1f8-4ccf-8420-0b4f77b81d8a"
      },
      "execution_count": 83,
      "outputs": [
        {
          "output_type": "stream",
          "name": "stdout",
          "text": [
            "['Введут', 'ли', 'работы', 'на', 'ул', '.', 'Загородная', '165', 'и', 'на', 'Студенческой', 'в', 'г', '.', 'Благовещенске', '?']\n",
            "['O', 'O', 'O', 'O', 'B-FAC', 'I-FAC', 'I-FAC', 'I-FAC', 'O', 'O', 'B-FAC', 'O', 'O', 'O', 'B-GPE', 'O']\n"
          ]
        }
      ]
    },
    {
      "cell_type": "code",
      "source": [
        "import pymorphy2\n",
        "morph = pymorphy2.MorphAnalyzer()\n",
        "text = \"\"\"Введут ли работы на ул. Загородная 165 и на Студенческой в г. Благовещенске?\"\"\"\n",
        "\n",
        "res = ner_model([text])\n",
        "slice_ind = 0\n",
        "slice_len = 1\n",
        "entity = res[1][0]\n",
        "token = res[0][0]\n",
        "\n",
        "i = 0\n",
        "while i < len(res[1][ 0]):\n",
        "  if entity[i] == 'B-FAC':\n",
        "    slice_ind = i\n",
        "    slice_len = 1\n",
        "    i += 1\n",
        "    while entity[i] == 'I-FAC':\n",
        "      slice_len += 1\n",
        "      i += 1\n",
        "    print(morph.parse(' '.join(token[slice_ind: slice_ind + slice_len]))[0].normal_form)\n",
        "  i += 1\n",
        "\n",
        "print(morph.parse('Загородная')[0].normal_form)\n",
        "print(morph.parse('Загородной')[0].normal_form)\n",
        "print(morph.parse('Загородную')[0].normal_form)"
      ],
      "metadata": {
        "colab": {
          "base_uri": "https://localhost:8080/"
        },
        "id": "iaAhlLbBgp1x",
        "outputId": "9657a3d4-005d-43e4-c95d-2d5ae761838a"
      },
      "execution_count": 93,
      "outputs": [
        {
          "output_type": "stream",
          "name": "stdout",
          "text": [
            "ул . загородная 165\n",
            "студенческий\n",
            "загородный\n",
            "загородный\n",
            "загородный\n"
          ]
        }
      ]
    },
    {
      "cell_type": "code",
      "source": [
        "\n",
        "def process(question, token_first='B-FAC', token_last='I-FAC', replace='улица N'):\n",
        "\n",
        "  answer = ner_model([question])\n",
        "\n",
        "  first = 0\n",
        "  l = 0\n",
        "  entity = list()\n",
        "\n",
        "  for i, v in zip(range(1, len(answer[1][0]) + 1), answer[1][0]):\n",
        "\n",
        "    if v == token_first:\n",
        "      if l != 0:\n",
        "        entity.append(answer[0][0][first - 1: first + l])\n",
        "        question = question.replace(' '.join(answer[0][0][first - 1: first + l]), replace)\n",
        "      first = i\n",
        "      l = 0\n",
        "    elif v == token_last:\n",
        "      l += 1\n",
        "    \n",
        "    if i == len(answer[1][0]) and first:\n",
        "      entity.append(answer[0][0][first - 1: first + l])\n",
        "      question = question.replace(' '.join(answer[0][0][first - 1: first + l]), replace)\n",
        "    \n",
        "\n",
        "  return entity, question\n",
        "\n",
        "\n",
        "process('Когда заканчиваются работы на улице Ленина 137?')"
      ],
      "metadata": {
        "colab": {
          "base_uri": "https://localhost:8080/"
        },
        "id": "56dtoRxGKFLp",
        "outputId": "1c854afa-9251-43d2-f1a5-4b33b3889397"
      },
      "execution_count": null,
      "outputs": [
        {
          "output_type": "execute_result",
          "data": {
            "text/plain": [
              "([['улице', 'Ленина', '137']], 'Когда заканчиваются работы на улица N?')"
            ]
          },
          "metadata": {},
          "execution_count": 8
        }
      ]
    },
    {
      "cell_type": "code",
      "source": [
        "\n",
        "a, b = process('Когда заканчиваются работы на улице Ленина 137?')\n",
        "a[0][0] = 'ул'"
      ],
      "metadata": {
        "id": "VP7-BbUAKFJI"
      },
      "execution_count": null,
      "outputs": []
    },
    {
      "cell_type": "code",
      "source": [
        "a"
      ],
      "metadata": {
        "colab": {
          "base_uri": "https://localhost:8080/"
        },
        "id": "IR9bzr-2Eo2G",
        "outputId": "01b6f2cb-9c4f-4bee-e43c-98bf74b49c00"
      },
      "execution_count": null,
      "outputs": [
        {
          "output_type": "execute_result",
          "data": {
            "text/plain": [
              "[['ул', 'Ленина', '137']]"
            ]
          },
          "metadata": {},
          "execution_count": 10
        }
      ]
    },
    {
      "cell_type": "markdown",
      "source": [
        "### FAQ"
      ],
      "metadata": {
        "id": "VhTf7MOGQwfQ"
      }
    },
    {
      "cell_type": "code",
      "source": [
        "# build - FAQ \n",
        "model_config = read_json(configs.faq.tfidf_logreg_autofaq)\n",
        "model_config['dataset_reader']['data_path'] = 'faq.csv'\n",
        "model_config['dataset_reader']['data_url'] = None\n",
        "faq = train_model(model_config);"
      ],
      "metadata": {
        "colab": {
          "base_uri": "https://localhost:8080/"
        },
        "id": "uIHbUpiuEi-f",
        "outputId": "ad5c1bc4-73e6-4d5a-97ec-443785a9677a"
      },
      "execution_count": null,
      "outputs": [
        {
          "output_type": "stream",
          "name": "stderr",
          "text": [
            "2022-02-03 05:45:27.71 WARNING in 'deeppavlov.models.sklearn.sklearn_component'['sklearn_component'] at line 219: Cannot load model from /root/.deeppavlov/models/vectorizer/tfidf_vectorizer_ruwiki_v2.pkl\n",
            "2022-02-03 05:45:27.73 INFO in 'deeppavlov.models.sklearn.sklearn_component'['sklearn_component'] at line 166: Initializing model sklearn.feature_extraction.text:TfidfVectorizer from scratch\n",
            "2022-02-03 05:45:27.90 INFO in 'deeppavlov.models.sklearn.sklearn_component'['sklearn_component'] at line 109: Fitting model sklearn.feature_extraction.text:TfidfVectorizer\n",
            "2022-02-03 05:45:27.109 INFO in 'deeppavlov.models.sklearn.sklearn_component'['sklearn_component'] at line 241: Saving model to /root/.deeppavlov/models/vectorizer/tfidf_vectorizer_ruwiki_v2.pkl\n",
            "2022-02-03 05:45:27.119 INFO in 'deeppavlov.core.data.simple_vocab'['simple_vocab'] at line 101: [saving vocabulary to /root/.deeppavlov/models/faq/ru_mipt_answers.dict]\n",
            "2022-02-03 05:45:27.122 WARNING in 'deeppavlov.models.sklearn.sklearn_component'['sklearn_component'] at line 219: Cannot load model from /root/.deeppavlov/models/faq/tfidf_logreg_classifier_v2.pkl\n",
            "2022-02-03 05:45:27.123 INFO in 'deeppavlov.models.sklearn.sklearn_component'['sklearn_component'] at line 166: Initializing model sklearn.linear_model:LogisticRegression from scratch\n",
            "2022-02-03 05:45:27.135 INFO in 'deeppavlov.models.sklearn.sklearn_component'['sklearn_component'] at line 109: Fitting model sklearn.linear_model:LogisticRegression\n",
            "/usr/local/lib/python3.7/dist-packages/sklearn/linear_model/logistic.py:432: FutureWarning: Default solver will be changed to 'lbfgs' in 0.22. Specify a solver to silence this warning.\n",
            "  FutureWarning)\n",
            "/usr/local/lib/python3.7/dist-packages/sklearn/linear_model/logistic.py:469: FutureWarning: Default multi_class will be changed to 'auto' in 0.22. Specify the multi_class option to silence this warning.\n",
            "  \"this warning.\", FutureWarning)\n",
            "2022-02-03 05:45:27.164 INFO in 'deeppavlov.models.sklearn.sklearn_component'['sklearn_component'] at line 241: Saving model to /root/.deeppavlov/models/faq/tfidf_logreg_classifier_v2.pkl\n",
            "2022-02-03 05:45:27.216 INFO in 'deeppavlov.models.sklearn.sklearn_component'['sklearn_component'] at line 203: Loading model sklearn.feature_extraction.text:TfidfVectorizer from /root/.deeppavlov/models/vectorizer/tfidf_vectorizer_ruwiki_v2.pkl\n",
            "2022-02-03 05:45:27.218 INFO in 'deeppavlov.models.sklearn.sklearn_component'['sklearn_component'] at line 210: Model sklearn.feature_extraction.textTfidfVectorizer loaded  with parameters\n",
            "2022-02-03 05:45:27.225 WARNING in 'deeppavlov.models.sklearn.sklearn_component'['sklearn_component'] at line 216: Fitting of loaded model can not be continued. Model can be fitted from scratch.If one needs to continue fitting, please, look at `warm_start` parameter\n",
            "2022-02-03 05:45:27.230 INFO in 'deeppavlov.core.data.simple_vocab'['simple_vocab'] at line 115: [loading vocabulary from /root/.deeppavlov/models/faq/ru_mipt_answers.dict]\n",
            "2022-02-03 05:45:27.233 INFO in 'deeppavlov.models.sklearn.sklearn_component'['sklearn_component'] at line 203: Loading model sklearn.linear_model:LogisticRegression from /root/.deeppavlov/models/faq/tfidf_logreg_classifier_v2.pkl\n",
            "2022-02-03 05:45:27.235 INFO in 'deeppavlov.models.sklearn.sklearn_component'['sklearn_component'] at line 210: Model sklearn.linear_model.logisticLogisticRegression loaded  with parameters\n",
            "2022-02-03 05:45:27.237 WARNING in 'deeppavlov.models.sklearn.sklearn_component'['sklearn_component'] at line 216: Fitting of loaded model can not be continued. Model can be fitted from scratch.If one needs to continue fitting, please, look at `warm_start` parameter\n",
            "2022-02-03 05:45:27.293 INFO in 'deeppavlov.models.sklearn.sklearn_component'['sklearn_component'] at line 203: Loading model sklearn.feature_extraction.text:TfidfVectorizer from /root/.deeppavlov/models/vectorizer/tfidf_vectorizer_ruwiki_v2.pkl\n",
            "2022-02-03 05:45:27.295 INFO in 'deeppavlov.models.sklearn.sklearn_component'['sklearn_component'] at line 210: Model sklearn.feature_extraction.textTfidfVectorizer loaded  with parameters\n",
            "2022-02-03 05:45:27.298 WARNING in 'deeppavlov.models.sklearn.sklearn_component'['sklearn_component'] at line 216: Fitting of loaded model can not be continued. Model can be fitted from scratch.If one needs to continue fitting, please, look at `warm_start` parameter\n",
            "2022-02-03 05:45:27.301 INFO in 'deeppavlov.core.data.simple_vocab'['simple_vocab'] at line 115: [loading vocabulary from /root/.deeppavlov/models/faq/ru_mipt_answers.dict]\n",
            "2022-02-03 05:45:27.304 INFO in 'deeppavlov.models.sklearn.sklearn_component'['sklearn_component'] at line 203: Loading model sklearn.linear_model:LogisticRegression from /root/.deeppavlov/models/faq/tfidf_logreg_classifier_v2.pkl\n",
            "2022-02-03 05:45:27.306 INFO in 'deeppavlov.models.sklearn.sklearn_component'['sklearn_component'] at line 210: Model sklearn.linear_model.logisticLogisticRegression loaded  with parameters\n",
            "2022-02-03 05:45:27.308 WARNING in 'deeppavlov.models.sklearn.sklearn_component'['sklearn_component'] at line 216: Fitting of loaded model can not be continued. Model can be fitted from scratch.If one needs to continue fitting, please, look at `warm_start` parameter\n"
          ]
        }
      ]
    },
    {
      "cell_type": "code",
      "source": [
        ""
      ],
      "metadata": {
        "id": "5uhgrVi0I5yA"
      },
      "execution_count": null,
      "outputs": []
    },
    {
      "cell_type": "code",
      "source": [
        ""
      ],
      "metadata": {
        "id": "GIYyGXJjI5vn"
      },
      "execution_count": null,
      "outputs": []
    },
    {
      "cell_type": "code",
      "source": [
        ""
      ],
      "metadata": {
        "id": "8AkcfnkWI5rh"
      },
      "execution_count": null,
      "outputs": []
    },
    {
      "cell_type": "code",
      "source": [
        ""
      ],
      "metadata": {
        "id": "xfhsC2odI5oA"
      },
      "execution_count": null,
      "outputs": []
    },
    {
      "cell_type": "markdown",
      "source": [
        "### Develov"
      ],
      "metadata": {
        "id": "2uszvNu8Qy5v"
      }
    },
    {
      "cell_type": "code",
      "source": [
        "def greeting():\n",
        "    print('/start')\n",
        "    print('Привет, чем я могу помочь?')\n",
        "\n",
        "\n",
        "def faq_func(question):\n",
        "    state, score = faq(question)\n",
        "    return state[0], not all(np.array(score[0]) < 0.5)\n",
        "\n",
        "\n",
        "def odqa_document(question):\n",
        "     return model_ru([text], [question])[0][0]\n",
        "\n",
        "\n",
        "def ner_func(question):\n",
        "    ent1, qu = process(question, token_first='B-FAC', token_last='I-FAC', replace='улица N')\n",
        "    ent2, qu = process(qu, 'B-GPE', 'I-GPE', ' ')\n",
        "    if ent1:\n",
        "      ent1[0][0] = 'улица'\n",
        "    if ent2:\n",
        "      ent2[0].insert(0, 'город')\n",
        "    return qu, ent1 + ent2\n",
        "\n",
        "\n",
        "def sql_query_to_base():\n",
        "    pass\n"
      ],
      "metadata": {
        "id": "Osy3uEpkMAQ9"
      },
      "execution_count": null,
      "outputs": []
    },
    {
      "cell_type": "code",
      "source": [
        "def main():\n",
        "\n",
        "  greeting()\n",
        "\n",
        "  dialog = True\n",
        "\n",
        "  # Будем создавать словарь с параметрами для хранения контекста\n",
        "  context = {}\n",
        "  while dialog:\n",
        "      question = input()\n",
        "\n",
        "      if question == '/stop':\n",
        "        return\n",
        "\n",
        "      raw_question, entity = ner_func(question)\n",
        "      if entity:\n",
        "        for i in entity:\n",
        "          context[i[0]] = ' '.join(i)\n",
        "        \n",
        "        \n",
        "      print(raw_question)\n",
        "\n",
        "      state, threshold = faq_func(raw_question)\n",
        "\n",
        "      print(state, threshold)\n",
        "\n",
        "\n",
        "      if threshold:\n",
        "\n",
        "          if state == 'state1':\n",
        "              # odqa_document(raw_question.replace('N', context['город']))\n",
        "              if ''.join(context['улица'].split()[1:]) in ''.join(\n",
        "                  process(text, token_first='B-FAC', token_last='I-FAC', replace='улица N')[0][0]):\n",
        "                print('Участвует')\n",
        "              else:\n",
        "                print('Не участвует')\n",
        "          elif state == 'state2':\n",
        "              if not context and entity or context and entity:  # Если передали новую локацию - меняем контекст\n",
        "                  context['loc'] = entity\n",
        "              print(sql_query_to_base(context['loc']))  # Выполняем предопределнный запрос\n",
        "          elif state == 'state3':\n",
        "            print('')\n",
        "          elif state =='state4':\n",
        "            print('')\n",
        "      else:\n",
        "          # Иначе пытаемся найти вопрос в документах\n",
        "          odqa_document(question)"
      ],
      "metadata": {
        "id": "AtqX5UTPI5hQ"
      },
      "execution_count": null,
      "outputs": []
    },
    {
      "cell_type": "code",
      "source": [
        "# main()"
      ],
      "metadata": {
        "id": "-eNJGNM3gTla"
      },
      "execution_count": null,
      "outputs": []
    },
    {
      "cell_type": "code",
      "source": [
        ""
      ],
      "metadata": {
        "id": "eGzpxokHL2sr"
      },
      "execution_count": null,
      "outputs": []
    },
    {
      "cell_type": "code",
      "source": [
        "ner_func('А участвует ли в программе улица Ленина 234 в городе Благовещенск?')"
      ],
      "metadata": {
        "colab": {
          "base_uri": "https://localhost:8080/"
        },
        "id": "MQ20FKvwL2mB",
        "outputId": "14d93b84-36a5-4593-c434-4347da5383e1"
      },
      "execution_count": null,
      "outputs": [
        {
          "output_type": "execute_result",
          "data": {
            "text/plain": [
              "('А участвует ли в программе улица N в городе  ?',\n",
              " [['улица', 'Ленина', '234'], ['город', 'Благовещенск']])"
            ]
          },
          "metadata": {},
          "execution_count": 15
        }
      ]
    },
    {
      "cell_type": "code",
      "source": [
        "qu = ner_func('А участвует ли в программе улица Ленина 234 в городе Благовещенск?')\n",
        "faq_func(qu)"
      ],
      "metadata": {
        "colab": {
          "base_uri": "https://localhost:8080/",
          "height": 692
        },
        "id": "FiVlYD_PgWsE",
        "outputId": "ec4148cc-8db0-4c7d-8951-6feb7e14e049"
      },
      "execution_count": null,
      "outputs": [
        {
          "output_type": "error",
          "ename": "TypeError",
          "evalue": "ignored",
          "traceback": [
            "\u001b[0;31m---------------------------------------------------------------------------\u001b[0m",
            "\u001b[0;31mTypeError\u001b[0m                                 Traceback (most recent call last)",
            "\u001b[0;32m<ipython-input-35-5bce4fabe8fa>\u001b[0m in \u001b[0;36m<module>\u001b[0;34m()\u001b[0m\n\u001b[1;32m      1\u001b[0m \u001b[0mqu\u001b[0m \u001b[0;34m=\u001b[0m \u001b[0mner_func\u001b[0m\u001b[0;34m(\u001b[0m\u001b[0;34m'А участвует ли в программе улица Ленина 234 в городе Благовещенск?'\u001b[0m\u001b[0;34m)\u001b[0m\u001b[0;34m\u001b[0m\u001b[0;34m\u001b[0m\u001b[0m\n\u001b[0;32m----> 2\u001b[0;31m \u001b[0mfaq_func\u001b[0m\u001b[0;34m(\u001b[0m\u001b[0mqu\u001b[0m\u001b[0;34m)\u001b[0m\u001b[0;34m\u001b[0m\u001b[0;34m\u001b[0m\u001b[0m\n\u001b[0m",
            "\u001b[0;32m<ipython-input-34-95c8671fc1af>\u001b[0m in \u001b[0;36mfaq_func\u001b[0;34m(question)\u001b[0m\n\u001b[1;32m      5\u001b[0m \u001b[0;34m\u001b[0m\u001b[0m\n\u001b[1;32m      6\u001b[0m \u001b[0;32mdef\u001b[0m \u001b[0mfaq_func\u001b[0m\u001b[0;34m(\u001b[0m\u001b[0mquestion\u001b[0m\u001b[0;34m)\u001b[0m\u001b[0;34m:\u001b[0m\u001b[0;34m\u001b[0m\u001b[0;34m\u001b[0m\u001b[0m\n\u001b[0;32m----> 7\u001b[0;31m     \u001b[0mstate\u001b[0m\u001b[0;34m,\u001b[0m \u001b[0mscore\u001b[0m \u001b[0;34m=\u001b[0m \u001b[0mfaq\u001b[0m\u001b[0;34m(\u001b[0m\u001b[0;34m[\u001b[0m\u001b[0mquestion\u001b[0m\u001b[0;34m]\u001b[0m\u001b[0;34m)\u001b[0m\u001b[0;34m\u001b[0m\u001b[0;34m\u001b[0m\u001b[0m\n\u001b[0m\u001b[1;32m      8\u001b[0m     \u001b[0;32mreturn\u001b[0m \u001b[0mstate\u001b[0m\u001b[0;34m[\u001b[0m\u001b[0;36m0\u001b[0m\u001b[0;34m]\u001b[0m\u001b[0;34m,\u001b[0m \u001b[0;32mnot\u001b[0m \u001b[0mall\u001b[0m\u001b[0;34m(\u001b[0m\u001b[0mnp\u001b[0m\u001b[0;34m.\u001b[0m\u001b[0marray\u001b[0m\u001b[0;34m(\u001b[0m\u001b[0mscore\u001b[0m\u001b[0;34m[\u001b[0m\u001b[0;36m0\u001b[0m\u001b[0;34m]\u001b[0m\u001b[0;34m)\u001b[0m \u001b[0;34m<\u001b[0m \u001b[0;36m0.5\u001b[0m\u001b[0;34m)\u001b[0m\u001b[0;34m\u001b[0m\u001b[0;34m\u001b[0m\u001b[0m\n\u001b[1;32m      9\u001b[0m \u001b[0;34m\u001b[0m\u001b[0m\n",
            "\u001b[0;32m/usr/local/lib/python3.7/dist-packages/deeppavlov/core/common/chainer.py\u001b[0m in \u001b[0;36m__call__\u001b[0;34m(self, *args)\u001b[0m\n\u001b[1;32m    205\u001b[0m \u001b[0;34m\u001b[0m\u001b[0m\n\u001b[1;32m    206\u001b[0m     \u001b[0;32mdef\u001b[0m \u001b[0m__call__\u001b[0m\u001b[0;34m(\u001b[0m\u001b[0mself\u001b[0m\u001b[0;34m,\u001b[0m \u001b[0;34m*\u001b[0m\u001b[0margs\u001b[0m\u001b[0;34m)\u001b[0m\u001b[0;34m:\u001b[0m\u001b[0;34m\u001b[0m\u001b[0;34m\u001b[0m\u001b[0m\n\u001b[0;32m--> 207\u001b[0;31m         \u001b[0;32mreturn\u001b[0m \u001b[0mself\u001b[0m\u001b[0;34m.\u001b[0m\u001b[0m_compute\u001b[0m\u001b[0;34m(\u001b[0m\u001b[0;34m*\u001b[0m\u001b[0margs\u001b[0m\u001b[0;34m,\u001b[0m \u001b[0mparam_names\u001b[0m\u001b[0;34m=\u001b[0m\u001b[0mself\u001b[0m\u001b[0;34m.\u001b[0m\u001b[0min_x\u001b[0m\u001b[0;34m,\u001b[0m \u001b[0mpipe\u001b[0m\u001b[0;34m=\u001b[0m\u001b[0mself\u001b[0m\u001b[0;34m.\u001b[0m\u001b[0mpipe\u001b[0m\u001b[0;34m,\u001b[0m \u001b[0mtargets\u001b[0m\u001b[0;34m=\u001b[0m\u001b[0mself\u001b[0m\u001b[0;34m.\u001b[0m\u001b[0mout_params\u001b[0m\u001b[0;34m)\u001b[0m\u001b[0;34m\u001b[0m\u001b[0;34m\u001b[0m\u001b[0m\n\u001b[0m\u001b[1;32m    208\u001b[0m \u001b[0;34m\u001b[0m\u001b[0m\n\u001b[1;32m    209\u001b[0m     \u001b[0;34m@\u001b[0m\u001b[0mstaticmethod\u001b[0m\u001b[0;34m\u001b[0m\u001b[0;34m\u001b[0m\u001b[0m\n",
            "\u001b[0;32m/usr/local/lib/python3.7/dist-packages/deeppavlov/core/common/chainer.py\u001b[0m in \u001b[0;36m_compute\u001b[0;34m(***failed resolving arguments***)\u001b[0m\n\u001b[1;32m    228\u001b[0m                 \u001b[0mres\u001b[0m \u001b[0;34m=\u001b[0m \u001b[0mcomponent\u001b[0m\u001b[0;34m.\u001b[0m\u001b[0m__call__\u001b[0m\u001b[0;34m(\u001b[0m\u001b[0;34m**\u001b[0m\u001b[0mdict\u001b[0m\u001b[0;34m(\u001b[0m\u001b[0mzip\u001b[0m\u001b[0;34m(\u001b[0m\u001b[0min_keys\u001b[0m\u001b[0;34m,\u001b[0m \u001b[0mx\u001b[0m\u001b[0;34m)\u001b[0m\u001b[0;34m)\u001b[0m\u001b[0;34m)\u001b[0m\u001b[0;34m\u001b[0m\u001b[0;34m\u001b[0m\u001b[0m\n\u001b[1;32m    229\u001b[0m             \u001b[0;32melse\u001b[0m\u001b[0;34m:\u001b[0m\u001b[0;34m\u001b[0m\u001b[0;34m\u001b[0m\u001b[0m\n\u001b[0;32m--> 230\u001b[0;31m                 \u001b[0mres\u001b[0m \u001b[0;34m=\u001b[0m \u001b[0mcomponent\u001b[0m\u001b[0;34m.\u001b[0m\u001b[0m__call__\u001b[0m\u001b[0;34m(\u001b[0m\u001b[0;34m*\u001b[0m\u001b[0mx\u001b[0m\u001b[0;34m)\u001b[0m\u001b[0;34m\u001b[0m\u001b[0;34m\u001b[0m\u001b[0m\n\u001b[0m\u001b[1;32m    231\u001b[0m             \u001b[0;32mif\u001b[0m \u001b[0mlen\u001b[0m\u001b[0;34m(\u001b[0m\u001b[0mout_params\u001b[0m\u001b[0;34m)\u001b[0m \u001b[0;34m==\u001b[0m \u001b[0;36m1\u001b[0m\u001b[0;34m:\u001b[0m\u001b[0;34m\u001b[0m\u001b[0;34m\u001b[0m\u001b[0m\n\u001b[1;32m    232\u001b[0m                 \u001b[0mmem\u001b[0m\u001b[0;34m[\u001b[0m\u001b[0mout_params\u001b[0m\u001b[0;34m[\u001b[0m\u001b[0;36m0\u001b[0m\u001b[0;34m]\u001b[0m\u001b[0;34m]\u001b[0m \u001b[0;34m=\u001b[0m \u001b[0mres\u001b[0m\u001b[0;34m\u001b[0m\u001b[0;34m\u001b[0m\u001b[0m\n",
            "\u001b[0;32m/usr/local/lib/python3.7/dist-packages/deeppavlov/models/tokenizers/ru_tokenizer.py\u001b[0m in \u001b[0;36m__call__\u001b[0;34m(self, batch)\u001b[0m\n\u001b[1;32m     98\u001b[0m             \u001b[0;32mreturn\u001b[0m \u001b[0;34m[\u001b[0m\u001b[0mdetokenize\u001b[0m\u001b[0;34m(\u001b[0m\u001b[0mdoc\u001b[0m\u001b[0;34m)\u001b[0m \u001b[0;32mfor\u001b[0m \u001b[0mdoc\u001b[0m \u001b[0;32min\u001b[0m \u001b[0mbatch\u001b[0m\u001b[0;34m]\u001b[0m\u001b[0;34m\u001b[0m\u001b[0;34m\u001b[0m\u001b[0m\n\u001b[1;32m     99\u001b[0m         raise TypeError(\n\u001b[0;32m--> 100\u001b[0;31m             \"StreamSpacyTokenizer.__call__() is not implemented for `{}`\".format(type(batch[0])))\n\u001b[0m\u001b[1;32m    101\u001b[0m \u001b[0;34m\u001b[0m\u001b[0m\n\u001b[1;32m    102\u001b[0m     \u001b[0;32mdef\u001b[0m \u001b[0m_tokenize\u001b[0m\u001b[0;34m(\u001b[0m\u001b[0mself\u001b[0m\u001b[0;34m,\u001b[0m \u001b[0mdata\u001b[0m\u001b[0;34m:\u001b[0m \u001b[0mList\u001b[0m\u001b[0;34m[\u001b[0m\u001b[0mstr\u001b[0m\u001b[0;34m]\u001b[0m\u001b[0;34m,\u001b[0m \u001b[0mngram_range\u001b[0m\u001b[0;34m:\u001b[0m \u001b[0mTuple\u001b[0m\u001b[0;34m[\u001b[0m\u001b[0mint\u001b[0m\u001b[0;34m,\u001b[0m \u001b[0mint\u001b[0m\u001b[0;34m]\u001b[0m \u001b[0;34m=\u001b[0m \u001b[0;34m(\u001b[0m\u001b[0;36m1\u001b[0m\u001b[0;34m,\u001b[0m \u001b[0;36m1\u001b[0m\u001b[0;34m)\u001b[0m\u001b[0;34m,\u001b[0m \u001b[0mlowercase\u001b[0m\u001b[0;34m:\u001b[0m \u001b[0mbool\u001b[0m \u001b[0;34m=\u001b[0m \u001b[0;32mTrue\u001b[0m\u001b[0;34m)\u001b[0m\u001b[0;31m \u001b[0m\u001b[0;31m\\\u001b[0m\u001b[0;34m\u001b[0m\u001b[0;34m\u001b[0m\u001b[0m\n",
            "\u001b[0;31mTypeError\u001b[0m: StreamSpacyTokenizer.__call__() is not implemented for `<class 'tuple'>`"
          ]
        }
      ]
    },
    {
      "cell_type": "code",
      "source": [
        "faq(['А участвует ли в программе улица N в городе  ?'])"
      ],
      "metadata": {
        "id": "OvSzYvKRop4r",
        "colab": {
          "base_uri": "https://localhost:8080/"
        },
        "outputId": "75878899-7d05-40c6-fdfa-dcf52b589f13"
      },
      "execution_count": null,
      "outputs": [
        {
          "output_type": "execute_result",
          "data": {
            "text/plain": [
              "[['state1'],\n",
              " [[0.7478851319162771,\n",
              "   0.0016191473149408913,\n",
              "   0.24546254347542037,\n",
              "   0.005033177293361457]]]"
            ]
          },
          "metadata": {},
          "execution_count": 28
        }
      ]
    },
    {
      "cell_type": "code",
      "source": [
        "model_ru([text], ['А участвует ли в программе улица Ленина 234 в городе Благовещенск?'])[0][0]"
      ],
      "metadata": {
        "colab": {
          "base_uri": "https://localhost:8080/",
          "height": 35
        },
        "id": "o7xyw-WiMuF_",
        "outputId": "d02d8c32-9650-47d2-f4bd-a64920c19cc7"
      },
      "execution_count": null,
      "outputs": [
        {
          "output_type": "execute_result",
          "data": {
            "application/vnd.google.colaboratory.intrinsic+json": {
              "type": "string"
            },
            "text/plain": [
              "'более 100 дворов'"
            ]
          },
          "metadata": {},
          "execution_count": 27
        }
      ]
    },
    {
      "cell_type": "code",
      "source": [
        "context = {}\n",
        "raw_question, entity = ner_func('А участвует ли в программе улица Ленина 234 в городе Благовещенск?')\n",
        "if entity:\n",
        "  for i in entity:\n",
        "    context[i[0]] = ' '.join(i)\n",
        "\n",
        "context"
      ],
      "metadata": {
        "colab": {
          "base_uri": "https://localhost:8080/"
        },
        "id": "3KMErKCwNOWU",
        "outputId": "068c7f98-7125-41a1-d265-26b518cba34a"
      },
      "execution_count": null,
      "outputs": [
        {
          "output_type": "execute_result",
          "data": {
            "text/plain": [
              "{'город': 'город Благовещенск', 'улица': 'улица Ленина 234'}"
            ]
          },
          "metadata": {},
          "execution_count": 33
        }
      ]
    },
    {
      "cell_type": "code",
      "source": [
        ""
      ],
      "metadata": {
        "id": "-D7fdckPN7xD"
      },
      "execution_count": null,
      "outputs": []
    },
    {
      "cell_type": "code",
      "source": [
        ""
      ],
      "metadata": {
        "id": "nra7KKN0OWsd"
      },
      "execution_count": null,
      "outputs": []
    },
    {
      "cell_type": "code",
      "source": [
        ""
      ],
      "metadata": {
        "id": "FXt0at7dOWm-"
      },
      "execution_count": null,
      "outputs": []
    },
    {
      "cell_type": "markdown",
      "source": [
        "## Bot"
      ],
      "metadata": {
        "id": "xfI5nG_aOX4G"
      }
    },
    {
      "cell_type": "code",
      "source": [
        "!pip install transformers\n",
        "!pip install deeppavlov\n",
        "!python -m deeppavlov install squad_bert"
      ],
      "metadata": {
        "id": "UYRXRqqZOglu"
      },
      "execution_count": null,
      "outputs": []
    },
    {
      "cell_type": "code",
      "source": [
        "import numpy as np\n",
        "\n",
        "import deeppavlov\n",
        "from deeppavlov import configs\n",
        "from deeppavlov.core.common.file import read_json\n",
        "from deeppavlov.core.commands.infer import build_model\n",
        "from deeppavlov import configs, train_model\n",
        "\n",
        "tkn_split = '>>>>>>>>>>>>'\n",
        "text = ''' \n",
        "В 2022 года начата реализация программы “1000 дворов” в Амурской области. В течении года \n",
        "будет реализовано порядка 100 современных дворовых территорий. Все работы по созданию дворовых территорий будут \n",
        "завершены не позднее 30.11.2022 г. \n",
        ">>>>>>>>>>>>\n",
        "Города которые участвуют в программе: Благовещенск, Белогорск, Тында, Циолковский, \n",
        "Шимановск, Райчихинск, Зея, Свободный.\n",
        ">>>>>>>>>>>>\n",
        "В Светлый, 6 будет установлено 10 лавочек, 5 качелей, 1 детский игровой комплекс, 3 карусели, 123 квадратных \n",
        "метра плитки, 44 метра леерного ограждения. На пер. Школьный, 110-112 будет установлено 8 лавочек, 6 качелей, 2 детских игровых комплексов, \n",
        "1 карусель, 144 квадратных метра плитки, 67 метра леерного ограждения.\n",
        ">>>>>>>>>>>>\n",
        "В Зее будет реализовано 5 дворовых территорий, это - мкр. Светлый, 6; мкр. Светлый, 61; мкр. Солнечный, 13,15; \n",
        "мкр. Светлый, 72, 73; пер. Школьный, 110-112.\n",
        "В Благовещенске будет реализовано 55 дворовых территорий.\n",
        "В Циолковском будет реализовано 2 дворовые территории.\n",
        "В Тынде 7 дворовых территорий.\n",
        "В Райчихинске будет реализовано 4 дворовые территории.\n",
        "В Белогорске будет реализовано 6 дворовые территории.\n",
        "В Свободном будет реализовано 21 дворовая территория.\n",
        "В Шимановске будет реализовано 4 дворовые территории.\n",
        ">>>>>>>>>>>>\n",
        "ул.Театральная, д.35/1\n",
        "ул.Трудовая, д.27,\n",
        "ул.Амурская, д.114\n",
        "ул.Загородная, д. 48, \n",
        "ул.Красноармейская, д.194\n",
        "ул.Чайковского,д.211\n",
        "ул.Чайковского, д.110\n",
        "ул.Чайковского, 47\n",
        "ул.Амурская, д.208\n",
        "ул.Калинина,д.76\n",
        "ул.Калинина, 76/2\n",
        "ул.Ленина, д.12/2\n",
        "ул.Ленина, д.14/2\n",
        "ул.Строителей,д.79/3\n",
        "ул.Моховая падь, ДОС-18\n",
        "ул.50 лет Октября, д.203, ул.50 лет Октября, д,203/1, ул. Кольцевая,42А, ул. Островского, 236\n",
        "ул.Ленина, д.171, ул.Б.Хмельницкого,д.6\n",
        "ул.Моховая падь, Литер- 25\n",
        "ул.Амурская,д.112\n",
        "ул. Пионерская, 147, ул. 50 лет Октября 140, 142, 144\n",
        "ул.Шевченко, 109\n",
        "ул. Муравьева Амурского, 24, ул.Трудовая, 268\n",
        "ул.Театральная,31, ул.Зейская,88\n",
        "ул. Ленина,42\n",
        "ул. Студенческая, 34/9\n",
        "ул.Чайковского, 33\n",
        "ул. Студенческая, 28\n",
        "ул.Пионерская, 112/2\n",
        "ул. Игнатьевское шоссе, 14, 14/1, 14/2, 14/4\n",
        "ул.Горького,д. 97/1\n",
        "ул. Игнатьевское шоссе, 3, 3/1\n",
        "ул.Пушкина, д.3/ Краснофлотская д.53\n",
        "ул. Ленина 235\n",
        "ул. Политехническая 88\n",
        "ул. Пограничная 124, 124/3\n",
        "ул. Св.Иннокентия 19\n",
        "ул. Дьяченко 2А,2В,2Г\n",
        "ул. Игнатьевское шоссе 12/6\n",
        "ул. Забурхановская 93, 93/1\n",
        "ул. Шевченко 44\n",
        "ул. Институтская 17, 17/1\n",
        "ул. Мясокомбинат, Литер 1\n",
        "ул. Красноармейская, 198\n",
        "ул.Зейская,256\n",
        "ул. 50 лет Октября, 197; ул. 50 лет Октября, 199;\n",
        "ул. Институтская, 11\n",
        "ул. Горького, 150\n",
        "ул. Пушкина, 199/1\n",
        "ул. Институтская 14\n",
        "ул. Театральная, 94\n",
        "ул. Чайковского, 64 \n",
        "ул.Политехническая,48\n",
        "ул.Горького,64\n",
        "ул. Партизанская, 22/2\n",
        "'''\n",
        "\n",
        "\n",
        "\n",
        "model_ru = build_model(configs.squad.squad_ru_rubert, download=True)\n",
        "ner_model = build_model(configs.ner.ner_ontonotes_bert_mult, download=True)\n",
        "model_config = read_json(configs.faq.tfidf_logreg_autofaq)\n",
        "model_config['dataset_reader']['data_path'] = 'faq.csv'\n",
        "model_config['dataset_reader']['data_url'] = None\n",
        "faq = train_model(model_config)\n"
      ],
      "metadata": {
        "id": "FfRMRJKBOejv"
      },
      "execution_count": null,
      "outputs": []
    },
    {
      "cell_type": "code",
      "source": [
        "text = '''В 2022 года начата реализация программы “1000 дворов” в Амурской области. В течении года \n",
        "будет реализовано порядка 100 современных дворовых территорий. Все работы по созданию дворовых территорий будут \n",
        "завершены не позднее 30.11.2022 г.\n",
        "В Благовещенске на Ленина 123 будет установлено 10 лавочек, 5 качелей, 1 детский игровой комплекс, 3 карусели, 123 квадратных \n",
        "метра плитки, 44 метра леерного ограждения.\n",
        "Города которые участвуют в программе: Благовещенск, Белогорск, Тында, Циолковский, \n",
        "Шимановск, Райчихинск, Зея, Свободный.'''"
      ],
      "metadata": {
        "id": "6ZwkNlhwmXEC"
      },
      "execution_count": null,
      "outputs": []
    },
    {
      "cell_type": "code",
      "source": [
        "# "
      ],
      "metadata": {
        "id": "eFJyFoERnm62"
      },
      "execution_count": null,
      "outputs": []
    },
    {
      "cell_type": "markdown",
      "source": [
        "## 1"
      ],
      "metadata": {
        "id": "8QqiIx_tnpLj"
      }
    },
    {
      "cell_type": "code",
      "source": [
        "\n",
        "\n",
        "def process(question, token_first='B-FAC', token_last='I-FAC', replace='улица N'):\n",
        "    answer = ner_model([question])\n",
        "\n",
        "    first = 0\n",
        "    l = 0\n",
        "    entity = list()\n",
        "\n",
        "    for i, v in zip(range(1, len(answer[1][0]) + 1), answer[1][0]):\n",
        "\n",
        "        if v == token_first:\n",
        "            if l != 0 or token_first == 'B-GPE':\n",
        "              entity.append(answer[0][0][first - 1: first + l])\n",
        "              question = question.replace(' '.join(answer[0][0][first - 1: first + l]), replace)\n",
        "            first = i\n",
        "            l = 0\n",
        "        elif v == token_last:\n",
        "            l += 1\n",
        "\n",
        "        if i == len(answer[1][0]) and first:\n",
        "            entity.append(answer[0][0][first - 1: first + l])\n",
        "            question = question.replace(' '.join(answer[0][0][first - 1: first + l]), replace)\n",
        "\n",
        "    return entity, question\n",
        "\n",
        "\n",
        "def greeting():\n",
        "    print('/start')\n",
        "    print('Привет, чем я могу помочь?')\n",
        "\n",
        "\n",
        "# def faq_func(question):\n",
        "#     state, score = faq(question)\n",
        "#     return state[0], not all(np.array(score[0]) < 0.5)\n",
        "\n",
        "\n",
        "def odqa_document(question):\n",
        "    return model_ru([text], [question])[0][0]\n",
        "\n",
        "\n",
        "def ner_func(question):\n",
        "    ent1, qu = process(question, token_first='B-FAC', token_last='I-FAC', replace='улица N')\n",
        "    ent2, qu = process(qu, 'B-GPE', 'I-GPE', ' ')\n",
        "    d = {}\n",
        "    if ent1:\n",
        "        d['улица'] = ent1\n",
        "    if ent2:\n",
        "        d['город'] = ent2\n",
        "    return qu, d\n",
        "\n",
        "\n",
        "def sql_query_to_base():\n",
        "    pass\n",
        "\n",
        "\n",
        "def main():\n",
        "    greeting()\n",
        "\n",
        "    dialog = True\n",
        "\n",
        "    # Будем создавать словарь с параметрами для хранения контекста\n",
        "    context = {}\n",
        "    while dialog:\n",
        "        question = input()\n",
        "\n",
        "        if question == '/stop':\n",
        "            return\n",
        "\n",
        "        raw_question, entity = ner_func(question)\n",
        "\n",
        "        print(raw_question)\n",
        "\n",
        "        # state, threshold = faq_func(raw_question)\n",
        "        state, threshold = faq([question])\n",
        "\n",
        "        state = state[0]\n",
        "        threshold = not all(np.array(threshold[0]) < 0.5)\n",
        "\n",
        "        print(state, threshold)\n",
        "\n",
        "        if threshold:\n",
        "\n",
        "            if state == 'state1':\n",
        "                # odqa_document(raw_question.replace('N', context['город']))\n",
        "                if ''.join(entity['улица'].split()[1:]) in ''.join(\n",
        "                        process(text, token_first='B-FAC', token_last='I-FAC', replace='улица N')[0][0]):\n",
        "                    print('Участвует')\n",
        "                else:\n",
        "                    print('Не участвует')\n",
        "            elif state == 'state2':\n",
        "                print(odqa_document(question))  # Выполняем предопределнный запрос\n",
        "            elif state == 'state3':\n",
        "                print(odqa_document(question))\n",
        "            elif state == 'state4':\n",
        "                print(odqa_document(question))\n",
        "        else:\n",
        "            # Иначе пытаемся найти вопрос в документах\n",
        "            print(odqa_document(question))\n",
        "\n",
        "\n",
        "\n"
      ],
      "metadata": {
        "id": "TobWcMr_OWkB"
      },
      "execution_count": null,
      "outputs": []
    },
    {
      "cell_type": "markdown",
      "source": [
        "## 2"
      ],
      "metadata": {
        "id": "duuw4HtRnsd4"
      }
    },
    {
      "cell_type": "code",
      "source": [
        "def process(question, token_first='B-FAC', token_last='I-FAC', replace='улица N'):\n",
        "    answer = ner_model([question])\n",
        "\n",
        "    first = 0\n",
        "    l = 0\n",
        "    entity = list()\n",
        "\n",
        "    for i, v in zip(range(1, len(answer[1][0]) + 1), answer[1][0]):\n",
        "\n",
        "        if v == token_first:\n",
        "            if l != 0:\n",
        "                entity.append(answer[0][0][first - 1: first + l])\n",
        "                question = question.replace(' '.join(answer[0][0][first - 1: first + l]), replace)\n",
        "            first = i\n",
        "            l = 0\n",
        "        elif v == token_last:\n",
        "            l += 1\n",
        "\n",
        "        if i == len(answer[1][0]) and first:\n",
        "            entity.append(answer[0][0][first - 1: first + l])\n",
        "            question = question.replace(' '.join(answer[0][0][first - 1: first + l]), replace)\n",
        "\n",
        "    return entity, question\n",
        "\n",
        "\n",
        "def greeting():\n",
        "    print('/start')\n",
        "    print('>>>>>>>>>>>>', 'Привет, чем я могу помочь?')\n",
        "\n",
        "\n",
        "# def faq_func(question):\n",
        "#     state, score = faq(question)\n",
        "#     return state[0], not all(np.array(score[0]) < 0.5)\n",
        "\n",
        "\n",
        "def odqa_document(question):\n",
        "    return model_ru([text], [question])[0][0]\n",
        "\n",
        "\n",
        "def ner_func(question):\n",
        "    ent1, qu = process(question, token_first='B-FAC', token_last='I-FAC', replace='улица N')\n",
        "    ent2, qu = process(qu, 'B-GPE', 'I-GPE', ' ')\n",
        "    if ent1:\n",
        "        ent1[0][0] = 'улица'\n",
        "    if ent2:\n",
        "        ent2[0].insert(0, 'город')\n",
        "    return qu, ent1 + ent2\n",
        "\n",
        "\n",
        "def sql_query_to_base():\n",
        "    pass\n",
        "\n",
        "\n",
        "def main():\n",
        "    greeting()\n",
        "\n",
        "    dialog = True\n",
        "\n",
        "    # Будем создавать словарь с параметрами для хранения контекста\n",
        "    context = {}\n",
        "    while dialog:\n",
        "        question = input()\n",
        "\n",
        "        if question == '/stop':\n",
        "            return\n",
        "\n",
        "        raw_question, entity = ner_func(question)\n",
        "        if entity:\n",
        "            for i in entity:\n",
        "                context[i[0]] = ' '.join(i)\n",
        "\n",
        "        # print(raw_question)\n",
        "\n",
        "        # state, threshold = faq_func(raw_question)\n",
        "        state, threshold = faq([question])\n",
        "\n",
        "        state = state[0]\n",
        "        threshold = not all(np.array(threshold[0]) < 0.5)\n",
        "\n",
        "        # print(state, threshold)\n",
        "\n",
        "        if threshold:\n",
        "\n",
        "            if state == 'state1':\n",
        "                # odqa_document(raw_question.replace('N', context['город']))\n",
        "                if ''.join(context['улица'].split()[1:]) in ''.join(\n",
        "                        process(text, token_first='B-FAC', token_last='I-FAC', replace='улица N')[0][0]):\n",
        "                    print('>>>>>>>>>>>>', 'Улица', 'участвует')\n",
        "                else:\n",
        "                    print('>>>>>>>>>>>>', 'Улица', 'не участвует')\n",
        "            elif state == 'state2':\n",
        "                print('>>>>>>>>>>>>', odqa_document(question).title())  # Выполняем предопределнный запрос\n",
        "            elif state == 'state3':\n",
        "                print('>>>>>>>>>>>>', odqa_document(question).title())\n",
        "            elif state == 'state4':\n",
        "                print(odqa_document(question))\n",
        "        else:\n",
        "            # Иначе пытаемся найти вопрос в документах\n",
        "            print('>>>>>>>>>>>>', odqa_document(question).title())\n",
        "\n"
      ],
      "metadata": {
        "id": "AmuyDTd0nwUu"
      },
      "execution_count": null,
      "outputs": []
    },
    {
      "cell_type": "markdown",
      "source": [
        "## main"
      ],
      "metadata": {
        "id": "BnBbwJvCnxTE"
      }
    },
    {
      "cell_type": "code",
      "source": [
        "text = ''' В этом году в Благовещенске участвуют в программе более 100 дворов. 12.24.2021 завершаются ремонтные \n",
        "работы на улице Ленина 165. Академический театр драмы обновляется в соответствии с решением губернатора. Также \n",
        "13.34.2035 начинаются работы на улице Богдана-Хмельницкого 156, построят 153 ловочек, 8 тренажеров.'''\n"
      ],
      "metadata": {
        "id": "ipMAnUS4pjYd"
      },
      "execution_count": null,
      "outputs": []
    },
    {
      "cell_type": "code",
      "source": [
        "main()"
      ],
      "metadata": {
        "colab": {
          "base_uri": "https://localhost:8080/"
        },
        "id": "tjwQw9Y0Ol8D",
        "outputId": "04404220-d2e4-4ace-910f-67af9d5e57fb"
      },
      "execution_count": null,
      "outputs": [
        {
          "name": "stdout",
          "output_type": "stream",
          "text": [
            "/start\n",
            ">>>>>>>>>>>> Привет, чем я могу помочь?\n",
            "Привет, Участвует двор на улице Ленина 1456 в программе?\n",
            ">>>>>>>>>>>> Улица не участвует\n",
            "Участвует ли двор на Ленина 165 в программе?\n",
            ">>>>>>>>>>>> Улица участвует\n",
            "Сколько дворов участвет в программе в этом году?\n",
            ">>>>>>>>>>>> Более 100 Дворов\n",
            "Что будет сделано на Богдана-Хмельницкого 156?\n",
            ">>>>>>>>>>>> Построят 153 Ловочек, 8 Тренажеров\n",
            "Когда начинаются работы на улице Богдана-Хмельницкого?\n",
            ">>>>>>>>>>>> 13.34.2035\n",
            "/stop\n"
          ]
        }
      ]
    },
    {
      "cell_type": "code",
      "source": [
        ""
      ],
      "metadata": {
        "id": "keIy0E8yOl5s"
      },
      "execution_count": null,
      "outputs": []
    },
    {
      "cell_type": "code",
      "source": [
        ""
      ],
      "metadata": {
        "id": "sulXI-IVlzmV"
      },
      "execution_count": null,
      "outputs": []
    },
    {
      "cell_type": "code",
      "source": [
        ""
      ],
      "metadata": {
        "id": "MSHLDQIKlzkj"
      },
      "execution_count": null,
      "outputs": []
    },
    {
      "cell_type": "code",
      "source": [
        ""
      ],
      "metadata": {
        "id": "tXPBmFHblziR"
      },
      "execution_count": null,
      "outputs": []
    },
    {
      "cell_type": "code",
      "source": [
        ""
      ],
      "metadata": {
        "id": "NrgSzR20lzgi"
      },
      "execution_count": null,
      "outputs": []
    },
    {
      "cell_type": "code",
      "source": [
        ""
      ],
      "metadata": {
        "id": "LW8gIUqglzd-"
      },
      "execution_count": null,
      "outputs": []
    },
    {
      "cell_type": "code",
      "source": [
        ""
      ],
      "metadata": {
        "id": "to5-3YbHlzbo"
      },
      "execution_count": null,
      "outputs": []
    },
    {
      "cell_type": "code",
      "source": [
        ""
      ],
      "metadata": {
        "id": "33QKp2NTlzZI"
      },
      "execution_count": null,
      "outputs": []
    },
    {
      "cell_type": "code",
      "source": [
        ""
      ],
      "metadata": {
        "id": "SXMWFZxElzXp"
      },
      "execution_count": null,
      "outputs": []
    },
    {
      "cell_type": "code",
      "source": [
        ""
      ],
      "metadata": {
        "id": "cKCKwS34lzVD"
      },
      "execution_count": null,
      "outputs": []
    },
    {
      "cell_type": "code",
      "source": [
        ""
      ],
      "metadata": {
        "id": "ZLkasuu8lzSs"
      },
      "execution_count": null,
      "outputs": []
    },
    {
      "cell_type": "code",
      "source": [
        ""
      ],
      "metadata": {
        "id": "Zmw_DWt6lzQZ"
      },
      "execution_count": null,
      "outputs": []
    },
    {
      "cell_type": "code",
      "source": [
        ""
      ],
      "metadata": {
        "id": "StaKxDqhlzOW"
      },
      "execution_count": null,
      "outputs": []
    },
    {
      "cell_type": "code",
      "source": [
        ""
      ],
      "metadata": {
        "id": "XxXnra0BlzLz"
      },
      "execution_count": null,
      "outputs": []
    },
    {
      "cell_type": "code",
      "source": [
        ""
      ],
      "metadata": {
        "id": "jMCTfgYelzJW"
      },
      "execution_count": null,
      "outputs": []
    },
    {
      "cell_type": "code",
      "source": [
        ""
      ],
      "metadata": {
        "id": "mBcV7NcPlzG8"
      },
      "execution_count": null,
      "outputs": []
    },
    {
      "cell_type": "code",
      "source": [
        "def process(question, token_first='B-FAC', token_last='I-FAC', replace='улица N'):\n",
        "    answer = ner_model([question])\n",
        "\n",
        "    first = 0\n",
        "    l = 0\n",
        "    entity = list()\n",
        "\n",
        "    for i, v in zip(range(1, len(answer[1][0]) + 1), answer[1][0]):\n",
        "\n",
        "        if v == token_first:\n",
        "            if l != 0:\n",
        "                entity.append(answer[0][0][first - 1: first + l])\n",
        "                question = question.replace(' '.join(answer[0][0][first - 1: first + l]), replace)\n",
        "            first = i\n",
        "            l = 0\n",
        "        elif v == token_last:\n",
        "            l += 1\n",
        "\n",
        "        if i == len(answer[1][0]) and first:\n",
        "            entity.append(answer[0][0][first - 1: first + l])\n",
        "            question = question.replace(' '.join(answer[0][0][first - 1: first + l]), replace)\n",
        "\n",
        "    return entity, question\n",
        "process('улице Ленина 145')"
      ],
      "metadata": {
        "colab": {
          "base_uri": "https://localhost:8080/"
        },
        "id": "idU8DHdSQIjr",
        "outputId": "5b44209e-8a2e-4b3b-a944-f41d76f70317"
      },
      "execution_count": null,
      "outputs": [
        {
          "output_type": "execute_result",
          "data": {
            "text/plain": [
              "([], 'улице Ленина 145')"
            ]
          },
          "metadata": {},
          "execution_count": 78
        }
      ]
    },
    {
      "cell_type": "code",
      "source": [
        "ner_model(['Привет, Участвует двор на улице Ленина 1456 в программе?'])"
      ],
      "metadata": {
        "colab": {
          "base_uri": "https://localhost:8080/"
        },
        "id": "B0ouxcATRKld",
        "outputId": "9e241e6d-6ad6-4c8f-c14f-04ee9603f579"
      },
      "execution_count": null,
      "outputs": [
        {
          "output_type": "execute_result",
          "data": {
            "text/plain": [
              "(['Привет, Участвует двор на улице Ленина 1456 в программе?'], {})"
            ]
          },
          "metadata": {},
          "execution_count": 75
        }
      ]
    },
    {
      "cell_type": "code",
      "source": [
        "txt_dict = dict()\n",
        "for txt, v in zip(text.split(tkn_split),\n",
        "                  ['date', 'city', 'project', 'projects', 'streets']):\n",
        "    txt_dict[v] = txt"
      ],
      "metadata": {
        "colab": {
          "base_uri": "https://localhost:8080/"
        },
        "id": "Ki6T9a_YSRm-",
        "outputId": "ee45b209-8843-4749-ebce-eb03d6c460de"
      },
      "execution_count": null,
      "outputs": [
        {
          "output_type": "execute_result",
          "data": {
            "text/plain": [
              "[['10 лавочек, 5 качелей, 1 детский игровой комплекс, 3 карусели'],\n",
              " [28],\n",
              " [260332.046875]]"
            ]
          },
          "metadata": {},
          "execution_count": 66
        }
      ]
    },
    {
      "cell_type": "code",
      "source": [
        ""
      ],
      "metadata": {
        "colab": {
          "base_uri": "https://localhost:8080/"
        },
        "id": "YHo1HylTeG0I",
        "outputId": "19ed5e5e-1a77-44f4-8276-7e85cbcf13c4"
      },
      "execution_count": null,
      "outputs": [
        {
          "output_type": "execute_result",
          "data": {
            "text/plain": [
              "{'city': '\\nГорода которые участвуют в программе: Благовещенск, Белогорск, Тында, Циолковский, \\nШимановск, Райчихинск, Зея, Свободный.\\n',\n",
              " 'date': ' \\nВ 2022 года начата реализация программы “1000 дворов” в Амурской области. В течении года \\nбудет реализовано порядка 100 современных дворовых территорий. Все работы по созданию дворовых территорий будут \\nзавершены не позднее 30.11.2022 г. \\n',\n",
              " 'project': '\\nВ Зее будет реализовано 5 дворовых территорий, это - мкр. Светлый, 6; мкр. Светлый, 61; мкр. Солнечный, 13,15; \\nмкр. Светлый, 72, 73; пер. Школьный, 110-112.\\n',\n",
              " 'projects': '\\nВ Светлый, 6 будет установлено 10 лавочек, 5 качелей, 1 детский игровой комплекс, 3 карусели, 123 квадратных \\nметра плитки, 44 метра леерного ограждения. На пер. Школьный, 110-112 будет установлено 8 лавочек, 6 качелей, 2 детских игровых комплексов, \\n1 карусель, 144 квадратных метра плитки, 67 метра леерного ограждения.\\n',\n",
              " 'streets': '\\nВ Благовещенске будет реализовано 55 дворовых территорий.\\nВ Циолковском будет реализовано 2 дворовые территории.\\nВ Тынде 7 дворовых территорий.\\nВ Райчихинске будет реализовано 4 дворовые территории.\\nВ Белогорске будет реализовано 6 дворовые территории.\\nВ Свободном будет реализовано 21 дворовая территория.\\nВ Шимановске будет реализовано 4 дворовые территории.\\n'}"
            ]
          },
          "metadata": {},
          "execution_count": 65
        }
      ]
    },
    {
      "cell_type": "markdown",
      "source": [
        "# KMU\n"
      ],
      "metadata": {
        "id": "u9qtyDQZTHel"
      }
    },
    {
      "cell_type": "code",
      "source": [
        "!pip install transformers\n",
        "!pip install deeppavlov\n",
        "!python -m deeppavlov install squad_bert"
      ],
      "metadata": {
        "id": "Jn1gSYwHKONV"
      },
      "execution_count": null,
      "outputs": []
    },
    {
      "cell_type": "code",
      "source": [
        "!pip install pymorphy2\n",
        "!pip install pymorphy2-dicts\n",
        "!pip install DAWG-Python"
      ],
      "metadata": {
        "id": "She-7d3pe1PS"
      },
      "execution_count": null,
      "outputs": []
    },
    {
      "cell_type": "code",
      "source": [
        "from deeppavlov.metrics.accuracy import sets_accuracy\n",
        "sets_accuracy(pd.read_csv('faq.csv')['Answer'], faq(pd.read_csv('faq.csv')['Question'])[0])"
      ],
      "metadata": {
        "colab": {
          "base_uri": "https://localhost:8080/"
        },
        "id": "1oXBvUMvw9xd",
        "outputId": "339c96dd-134b-4cc1-ee28-487d1bf67a28"
      },
      "execution_count": 121,
      "outputs": [
        {
          "output_type": "execute_result",
          "data": {
            "text/plain": [
              "1.0"
            ]
          },
          "metadata": {},
          "execution_count": 121
        }
      ]
    },
    {
      "cell_type": "code",
      "source": [
        "squad = build_model(configs.squad.squad_ru_rubert, download=True)"
      ],
      "metadata": {
        "id": "pynQjeDfxE9e"
      },
      "execution_count": null,
      "outputs": []
    },
    {
      "cell_type": "code",
      "source": [
        "# build - FAQ\n",
        "import pandas as pd\n",
        "# !wget https://raw.githubusercontent.com/AraKchrUser/Automation-of-citizens-appeals/master/faq.csv\n",
        "model_config = read_json(configs.faq.tfidf_logreg_autofaq)\n",
        "model_config['dataset_reader']['data_path'] = 'faq.csv'\n",
        "model_config['dataset_reader']['data_url'] = None\n",
        "# model_config['train'] = OrderedDict([('class_name', 'fit_trainer'), ('metrics', ['accuracy']), ('train_score', ['accuracy'])])\n",
        "faq = train_model(model_config);"
      ],
      "metadata": {
        "id": "6ZCG7ifXwZue"
      },
      "execution_count": null,
      "outputs": []
    },
    {
      "cell_type": "code",
      "source": [
        "# build - NER\n",
        "ner_model = build_model(configs.ner.ner_ontonotes_bert_mult, download=True)"
      ],
      "metadata": {
        "id": "eI03gYx_Wcou"
      },
      "execution_count": 93,
      "outputs": []
    },
    {
      "cell_type": "code",
      "source": [
        "def preprocess(text, tokens=('B-FAC', 'I-FAC')):\n",
        "  res = ner_model([text])\n",
        "  tkn_1, tkn_2 = tokens\n",
        "  value = list()\n",
        "\n",
        "  slice_ind = 0\n",
        "  slice_len = 1\n",
        "  entity = res[1][0]\n",
        "  token = res[0][0]\n",
        "\n",
        "  i = 0\n",
        "  while i < len(res[1][ 0]):\n",
        "    if entity[i] == tkn_1:\n",
        "      slice_ind = i\n",
        "      slice_len = 1\n",
        "      i += 1\n",
        "      while i != len(res[1][ 0]) and entity[i] == tkn_2:\n",
        "        slice_len += 1\n",
        "        i += 1\n",
        "      value.append(normalization(token[slice_ind: slice_ind + slice_len]))\n",
        "    i += 1\n",
        "  return value\n",
        "\n",
        "text = \"\"\"Введут ли работы на ул. Фрунзе 123 и на пер. Студенческой 12 в г. Благовещенске?\"\"\"\n",
        "preprocess(text, ('B-FAC', 'I-FAC'))"
      ],
      "metadata": {
        "colab": {
          "base_uri": "https://localhost:8080/"
        },
        "id": "UuOENVuCCEgF",
        "outputId": "1f34e6e5-2eda-42af-9e2c-478e654fcc25"
      },
      "execution_count": 241,
      "outputs": [
        {
          "output_type": "execute_result",
          "data": {
            "text/plain": [
              "['ул . фрунзе 123', 'пер . студенческий 12']"
            ]
          },
          "metadata": {},
          "execution_count": 241
        }
      ]
    },
    {
      "cell_type": "code",
      "source": [
        "def normalization(tokens):\n",
        "  norm_tokens = []\n",
        "  if isinstance(tokens, str):\n",
        "    tokens = tokens.split()\n",
        "  for token in tokens:\n",
        "    norm_tokens.append(morph.parse(token)[0].normal_form)\n",
        "  return ' '.join(norm_tokens)"
      ],
      "metadata": {
        "id": "2tLUcce9FKR8"
      },
      "execution_count": 160,
      "outputs": []
    },
    {
      "cell_type": "code",
      "source": [
        "# print(morph.parse('Фетисова')[0].normal_form)\n",
        "# print(morph.parse('Фетисовой')[0].normal_form)\n",
        "# print(morph.parse('Загородную')[0].normal_form)"
      ],
      "metadata": {
        "id": "PlqtWfn5fNxq"
      },
      "execution_count": 173,
      "outputs": []
    },
    {
      "cell_type": "code",
      "source": [
        "!pip uninstall pandas\n",
        "!pip install pandas"
      ],
      "metadata": {
        "id": "7U7cEocZAwyl"
      },
      "execution_count": null,
      "outputs": []
    },
    {
      "cell_type": "code",
      "source": [
        "# !wget https://raw.githubusercontent.com/AraKchrUser/Automation-of-citizens-appeals/master/db.csv\n",
        "data = pd.read_csv('db.csv', sep=';')"
      ],
      "metadata": {
        "id": "SNyZR-FJUkDW"
      },
      "execution_count": 133,
      "outputs": []
    },
    {
      "cell_type": "code",
      "source": [
        "txt1 = \"\"\"110-112 будет установлено 8 лавочек, 6 качелей, 2 детских игровых комплексов, \n",
        "1 карусель, 144 квадратных метра плитки, 67 метра леерного ограждения.\"\"\"\n",
        "txt2 = \"\"\" будет установлено 10 лавочек, 5 качелей, 1 детский игровой комплекс, \n",
        "3 карусели, 123 квадратных метра плитки, 44 метра леерного ограждения.\"\"\""
      ],
      "metadata": {
        "id": "As1QoZ_iaTXn"
      },
      "execution_count": 309,
      "outputs": []
    },
    {
      "cell_type": "code",
      "source": [
        ""
      ],
      "metadata": {
        "id": "xmq6Y6SBaTTP"
      },
      "execution_count": null,
      "outputs": []
    },
    {
      "cell_type": "code",
      "source": [
        "data['proj'] = None\n",
        "data.iloc[0, -1] = txt1\n",
        "data.iloc[2, -1] = txt2\n",
        "data"
      ],
      "metadata": {
        "colab": {
          "base_uri": "https://localhost:8080/",
          "height": 532
        },
        "id": "AOkd2ugvawtt",
        "outputId": "c201ecae-3240-4304-dee2-c80553ab8932"
      },
      "execution_count": 314,
      "outputs": [
        {
          "output_type": "execute_result",
          "data": {
            "text/html": [
              "\n",
              "  <div id=\"df-96bfb910-ae9b-418c-8587-ebe0c72afa5a\">\n",
              "    <div class=\"colab-df-container\">\n",
              "      <div>\n",
              "<style scoped>\n",
              "    .dataframe tbody tr th:only-of-type {\n",
              "        vertical-align: middle;\n",
              "    }\n",
              "\n",
              "    .dataframe tbody tr th {\n",
              "        vertical-align: top;\n",
              "    }\n",
              "\n",
              "    .dataframe thead th {\n",
              "        text-align: right;\n",
              "    }\n",
              "</style>\n",
              "<table border=\"1\" class=\"dataframe\">\n",
              "  <thead>\n",
              "    <tr style=\"text-align: right;\">\n",
              "      <th></th>\n",
              "      <th>город</th>\n",
              "      <th>адрес</th>\n",
              "      <th>статус</th>\n",
              "      <th>сроки</th>\n",
              "      <th>norm_address</th>\n",
              "      <th>norm_city</th>\n",
              "      <th>proj</th>\n",
              "    </tr>\n",
              "  </thead>\n",
              "  <tbody>\n",
              "    <tr>\n",
              "      <th>0</th>\n",
              "      <td>Тында</td>\n",
              "      <td>Студенческая 21</td>\n",
              "      <td>в реализации</td>\n",
              "      <td>12.12.22 - 01.02.23</td>\n",
              "      <td>студенческий 21</td>\n",
              "      <td>тында</td>\n",
              "      <td>110-112 будет установлено 8 лавочек, 6 качелей...</td>\n",
              "    </tr>\n",
              "    <tr>\n",
              "      <th>1</th>\n",
              "      <td>Благовещенск</td>\n",
              "      <td>Пушкина-Колотушкина 165</td>\n",
              "      <td>в реализации</td>\n",
              "      <td>10.10.22 - 01.02.23</td>\n",
              "      <td>пушкин - колотушкин 165</td>\n",
              "      <td>благовещенск</td>\n",
              "      <td>None</td>\n",
              "    </tr>\n",
              "    <tr>\n",
              "      <th>2</th>\n",
              "      <td>Сковородино</td>\n",
              "      <td>Светителя 123</td>\n",
              "      <td>в реализации</td>\n",
              "      <td>09.09.22 - 01.02.23</td>\n",
              "      <td>светителя 123</td>\n",
              "      <td>сковородино</td>\n",
              "      <td>будет установлено 10 лавочек, 5 качелей, 1 де...</td>\n",
              "    </tr>\n",
              "    <tr>\n",
              "      <th>3</th>\n",
              "      <td>Благовещенск</td>\n",
              "      <td>Ленина 12</td>\n",
              "      <td>закрыта</td>\n",
              "      <td>08.08.22 - 01.02.23</td>\n",
              "      <td>ленин 12</td>\n",
              "      <td>благовещенск</td>\n",
              "      <td>None</td>\n",
              "    </tr>\n",
              "    <tr>\n",
              "      <th>4</th>\n",
              "      <td>Тында</td>\n",
              "      <td>Армена 007</td>\n",
              "      <td>в реализации</td>\n",
              "      <td>07.07.22 - 01.02.23</td>\n",
              "      <td>армен 007</td>\n",
              "      <td>тында</td>\n",
              "      <td>None</td>\n",
              "    </tr>\n",
              "    <tr>\n",
              "      <th>5</th>\n",
              "      <td>Шимановск</td>\n",
              "      <td>Русская 69</td>\n",
              "      <td>закрыта</td>\n",
              "      <td>06.06.22 - 01.02.23</td>\n",
              "      <td>русский 69</td>\n",
              "      <td>шимановск</td>\n",
              "      <td>None</td>\n",
              "    </tr>\n",
              "    <tr>\n",
              "      <th>6</th>\n",
              "      <td>Вожаевка</td>\n",
              "      <td>Японская 666</td>\n",
              "      <td>закрыта</td>\n",
              "      <td>05.05.22 - 01.02.23</td>\n",
              "      <td>японский 666</td>\n",
              "      <td>вожаевка</td>\n",
              "      <td>None</td>\n",
              "    </tr>\n",
              "    <tr>\n",
              "      <th>7</th>\n",
              "      <td>Благовещенск</td>\n",
              "      <td>Фрунзе 109</td>\n",
              "      <td>закрыта</td>\n",
              "      <td>04.04.22 - 01.02.23</td>\n",
              "      <td>фрунзе 109</td>\n",
              "      <td>благовещенск</td>\n",
              "      <td>None</td>\n",
              "    </tr>\n",
              "    <tr>\n",
              "      <th>8</th>\n",
              "      <td>Благовещенск</td>\n",
              "      <td>Фетисова 120</td>\n",
              "      <td>в реализации</td>\n",
              "      <td>03.03.22 - 01.02.23</td>\n",
              "      <td>фетисов 120</td>\n",
              "      <td>благовещенск</td>\n",
              "      <td>None</td>\n",
              "    </tr>\n",
              "  </tbody>\n",
              "</table>\n",
              "</div>\n",
              "      <button class=\"colab-df-convert\" onclick=\"convertToInteractive('df-96bfb910-ae9b-418c-8587-ebe0c72afa5a')\"\n",
              "              title=\"Convert this dataframe to an interactive table.\"\n",
              "              style=\"display:none;\">\n",
              "        \n",
              "  <svg xmlns=\"http://www.w3.org/2000/svg\" height=\"24px\"viewBox=\"0 0 24 24\"\n",
              "       width=\"24px\">\n",
              "    <path d=\"M0 0h24v24H0V0z\" fill=\"none\"/>\n",
              "    <path d=\"M18.56 5.44l.94 2.06.94-2.06 2.06-.94-2.06-.94-.94-2.06-.94 2.06-2.06.94zm-11 1L8.5 8.5l.94-2.06 2.06-.94-2.06-.94L8.5 2.5l-.94 2.06-2.06.94zm10 10l.94 2.06.94-2.06 2.06-.94-2.06-.94-.94-2.06-.94 2.06-2.06.94z\"/><path d=\"M17.41 7.96l-1.37-1.37c-.4-.4-.92-.59-1.43-.59-.52 0-1.04.2-1.43.59L10.3 9.45l-7.72 7.72c-.78.78-.78 2.05 0 2.83L4 21.41c.39.39.9.59 1.41.59.51 0 1.02-.2 1.41-.59l7.78-7.78 2.81-2.81c.8-.78.8-2.07 0-2.86zM5.41 20L4 18.59l7.72-7.72 1.47 1.35L5.41 20z\"/>\n",
              "  </svg>\n",
              "      </button>\n",
              "      \n",
              "  <style>\n",
              "    .colab-df-container {\n",
              "      display:flex;\n",
              "      flex-wrap:wrap;\n",
              "      gap: 12px;\n",
              "    }\n",
              "\n",
              "    .colab-df-convert {\n",
              "      background-color: #E8F0FE;\n",
              "      border: none;\n",
              "      border-radius: 50%;\n",
              "      cursor: pointer;\n",
              "      display: none;\n",
              "      fill: #1967D2;\n",
              "      height: 32px;\n",
              "      padding: 0 0 0 0;\n",
              "      width: 32px;\n",
              "    }\n",
              "\n",
              "    .colab-df-convert:hover {\n",
              "      background-color: #E2EBFA;\n",
              "      box-shadow: 0px 1px 2px rgba(60, 64, 67, 0.3), 0px 1px 3px 1px rgba(60, 64, 67, 0.15);\n",
              "      fill: #174EA6;\n",
              "    }\n",
              "\n",
              "    [theme=dark] .colab-df-convert {\n",
              "      background-color: #3B4455;\n",
              "      fill: #D2E3FC;\n",
              "    }\n",
              "\n",
              "    [theme=dark] .colab-df-convert:hover {\n",
              "      background-color: #434B5C;\n",
              "      box-shadow: 0px 1px 3px 1px rgba(0, 0, 0, 0.15);\n",
              "      filter: drop-shadow(0px 1px 2px rgba(0, 0, 0, 0.3));\n",
              "      fill: #FFFFFF;\n",
              "    }\n",
              "  </style>\n",
              "\n",
              "      <script>\n",
              "        const buttonEl =\n",
              "          document.querySelector('#df-96bfb910-ae9b-418c-8587-ebe0c72afa5a button.colab-df-convert');\n",
              "        buttonEl.style.display =\n",
              "          google.colab.kernel.accessAllowed ? 'block' : 'none';\n",
              "\n",
              "        async function convertToInteractive(key) {\n",
              "          const element = document.querySelector('#df-96bfb910-ae9b-418c-8587-ebe0c72afa5a');\n",
              "          const dataTable =\n",
              "            await google.colab.kernel.invokeFunction('convertToInteractive',\n",
              "                                                     [key], {});\n",
              "          if (!dataTable) return;\n",
              "\n",
              "          const docLinkHtml = 'Like what you see? Visit the ' +\n",
              "            '<a target=\"_blank\" href=https://colab.research.google.com/notebooks/data_table.ipynb>data table notebook</a>'\n",
              "            + ' to learn more about interactive tables.';\n",
              "          element.innerHTML = '';\n",
              "          dataTable['output_type'] = 'display_data';\n",
              "          await google.colab.output.renderOutput(dataTable, element);\n",
              "          const docLink = document.createElement('div');\n",
              "          docLink.innerHTML = docLinkHtml;\n",
              "          element.appendChild(docLink);\n",
              "        }\n",
              "      </script>\n",
              "    </div>\n",
              "  </div>\n",
              "  "
            ],
            "text/plain": [
              "          город  ...                                               proj\n",
              "0         Тында  ...  110-112 будет установлено 8 лавочек, 6 качелей...\n",
              "1  Благовещенск  ...                                               None\n",
              "2   Сковородино  ...   будет установлено 10 лавочек, 5 качелей, 1 де...\n",
              "3  Благовещенск  ...                                               None\n",
              "4         Тында  ...                                               None\n",
              "5     Шимановск  ...                                               None\n",
              "6      Вожаевка  ...                                               None\n",
              "7  Благовещенск  ...                                               None\n",
              "8  Благовещенск  ...                                               None\n",
              "\n",
              "[9 rows x 7 columns]"
            ]
          },
          "metadata": {},
          "execution_count": 314
        }
      ]
    },
    {
      "cell_type": "code",
      "source": [
        ""
      ],
      "metadata": {
        "id": "_oE6Lesdawqi"
      },
      "execution_count": null,
      "outputs": []
    },
    {
      "cell_type": "code",
      "source": [
        ""
      ],
      "metadata": {
        "id": "J1JAmyTTawea"
      },
      "execution_count": null,
      "outputs": []
    },
    {
      "cell_type": "code",
      "source": [
        ""
      ],
      "metadata": {
        "id": "kfuMTlSwvqeI"
      },
      "execution_count": 308,
      "outputs": []
    },
    {
      "cell_type": "code",
      "source": [
        "def greeting():\n",
        "  print('/start', 'Привет \\U0001F44B, чем я могу помочь?', sep='\\n')\n",
        "\n",
        "\n",
        "def fill_street(question, context):\n",
        "  street = preprocess(question, tokens=('B-FAC', 'I-FAC'))\n",
        "  if street:\n",
        "      context['street'] = address_prepr(street[0])\n",
        "\n",
        "\n",
        "def fill_city(question, context): \n",
        "  city = preprocess(question, tokens=('B-GPE', 'I-GPE'))\n",
        "  if city:\n",
        "    context['city'] = city[0]\n",
        "\n",
        "\n",
        "def check_city(context):\n",
        "  while not context['city']:\n",
        "    print('Вы не ввели город \\U0001F609')\n",
        "    question = input()\n",
        "    fill_city(question, context)\n",
        "\n",
        "def check_street(context):\n",
        "  while not context['street']:\n",
        "    print('Вы не ввели улицу \\U0001F64F')\n",
        "    question = input()\n",
        "    fill_street(question, context)\n",
        "    \n",
        "\n",
        "\n",
        "def address_prepr(text):\n",
        "  text = text.replace('улица', '').strip()\n",
        "  text = text.replace('ул.', '').strip()\n",
        "  return text\n",
        "\n",
        "\n",
        "\n",
        "context = {'city': None, 'street': None}\n",
        "data['norm_address'] = data['адрес'].apply(normalization).apply(lambda x: x.replace('-', ' - ').strip())\n",
        "data['norm_city'] = data['город'].apply(normalization)\n",
        "text = ''\n",
        "quary = ''\n",
        "\n",
        "\n",
        "def main():\n",
        "  dialog = True\n",
        "  greeting()\n",
        "\n",
        "  while dialog:\n",
        "\n",
        "    question = input()\n",
        "    if question == '/stop':\n",
        "      return\n",
        "    if question == '+':\n",
        "      ## Тут будут конкретные вопросы-ответы о наполняемости  \n",
        "      while question != '-':\n",
        "        question = input()\n",
        "        fill_street(question, context)\n",
        "        fill_city(question, context)\n",
        "        check_city(context)\n",
        "        check_street(context)\n",
        "        quary = data[data['norm_city'] == context['city']]\n",
        "        text = quary[quary['norm_address'] == context['street']]['proj'].values.tolist()\n",
        "        if text:\n",
        "          print(squad(text, [question])[0][0])\n",
        "        else:\n",
        "          print('Двор не участвует в программе')\n",
        "        \n",
        "    \n",
        "    fill_street(question, context)\n",
        "    fill_city(question, context)\n",
        "  \n",
        "    state, threshold = faq([question])\n",
        "\n",
        "    state = state[0]\n",
        "    threshold = not all(np.array(threshold[0]) < 0.93)\n",
        "\n",
        "    if not threshold:\n",
        "      print('Кто такой Илон Маск, говоришь?')\n",
        "    elif state == 'state1':\n",
        "      check_city(context)\n",
        "      check_street(context)\n",
        "      if context['street'] in data[data['norm_city'] == context['city']]['norm_address'].tolist():\n",
        "        print('Двор участвует в программе')\n",
        "      else:\n",
        "        print('Двор не участвует в программе')\n",
        "    elif state == 'state2':\n",
        "      check_city(context)\n",
        "      check_street(context)\n",
        "      strt = data[data['norm_city'] == context['city']]\n",
        "      strt = strt[strt['norm_address'] == context['street']]['сроки'].values\n",
        "      if strt:\n",
        "        print(context['street'], \": \", strt[0])\n",
        "      else:\n",
        "        print(\"Двор не участвует в программе\")\n",
        "    elif state == 'state3':\n",
        "      print(len(pd.unique(data['norm_address'])))"
      ],
      "metadata": {
        "id": "ImShW7kidNex"
      },
      "execution_count": 354,
      "outputs": []
    },
    {
      "cell_type": "code",
      "source": [
        "main()"
      ],
      "metadata": {
        "colab": {
          "base_uri": "https://localhost:8080/"
        },
        "id": "Np0UN3TX_xMX",
        "outputId": "4baac542-ec6d-484b-e0dd-134f700834c1"
      },
      "execution_count": 355,
      "outputs": [
        {
          "name": "stdout",
          "output_type": "stream",
          "text": [
            "/start\n",
            "Привет 👋, чем я могу помочь?\n",
            "+\n",
            "Сколько качелей будет установлено в Тынде на улице Студенческая 22?\n",
            "Двор не участвует в программе\n",
            "-\n",
            "Двор не участвует в программе\n",
            "Кто такой Илон Маск, говоришь?\n",
            "Сколько качелей будет установлено в Тынде на улице Студенческая 22?\n",
            "Кто такой Илон Маск, говоришь?\n",
            "Участвует двор на улице Японская 666 в Вожаевке в программе?\n",
            "Кто такой Илон Маск, говоришь?\n",
            "Участвует двор на улице Японская 666 в Благовещенске в программе?\n",
            "Кто такой Илон Маск, говоришь?\n",
            "/stop\n"
          ]
        }
      ]
    },
    {
      "cell_type": "code",
      "source": [
        "quary = data[data['norm_city'] == context['city']]\n",
        "quary"
      ],
      "metadata": {
        "colab": {
          "base_uri": "https://localhost:8080/",
          "height": 190
        },
        "id": "0s6Enjdld2wu",
        "outputId": "3a0ad39a-b2e8-4c15-90a4-e7d11cfa0d13"
      },
      "execution_count": 339,
      "outputs": [
        {
          "output_type": "execute_result",
          "data": {
            "text/html": [
              "\n",
              "  <div id=\"df-3b342092-134a-404f-b056-fe7fb59c524b\">\n",
              "    <div class=\"colab-df-container\">\n",
              "      <div>\n",
              "<style scoped>\n",
              "    .dataframe tbody tr th:only-of-type {\n",
              "        vertical-align: middle;\n",
              "    }\n",
              "\n",
              "    .dataframe tbody tr th {\n",
              "        vertical-align: top;\n",
              "    }\n",
              "\n",
              "    .dataframe thead th {\n",
              "        text-align: right;\n",
              "    }\n",
              "</style>\n",
              "<table border=\"1\" class=\"dataframe\">\n",
              "  <thead>\n",
              "    <tr style=\"text-align: right;\">\n",
              "      <th></th>\n",
              "      <th>город</th>\n",
              "      <th>адрес</th>\n",
              "      <th>статус</th>\n",
              "      <th>сроки</th>\n",
              "      <th>norm_address</th>\n",
              "      <th>norm_city</th>\n",
              "      <th>proj</th>\n",
              "    </tr>\n",
              "  </thead>\n",
              "  <tbody>\n",
              "    <tr>\n",
              "      <th>0</th>\n",
              "      <td>Тында</td>\n",
              "      <td>Студенческая 21</td>\n",
              "      <td>в реализации</td>\n",
              "      <td>12.12.22 - 01.02.23</td>\n",
              "      <td>студенческий 21</td>\n",
              "      <td>тында</td>\n",
              "      <td>110-112 будет установлено 8 лавочек, 6 качелей...</td>\n",
              "    </tr>\n",
              "    <tr>\n",
              "      <th>4</th>\n",
              "      <td>Тында</td>\n",
              "      <td>Армена 007</td>\n",
              "      <td>в реализации</td>\n",
              "      <td>07.07.22 - 01.02.23</td>\n",
              "      <td>армен 007</td>\n",
              "      <td>тында</td>\n",
              "      <td>None</td>\n",
              "    </tr>\n",
              "  </tbody>\n",
              "</table>\n",
              "</div>\n",
              "      <button class=\"colab-df-convert\" onclick=\"convertToInteractive('df-3b342092-134a-404f-b056-fe7fb59c524b')\"\n",
              "              title=\"Convert this dataframe to an interactive table.\"\n",
              "              style=\"display:none;\">\n",
              "        \n",
              "  <svg xmlns=\"http://www.w3.org/2000/svg\" height=\"24px\"viewBox=\"0 0 24 24\"\n",
              "       width=\"24px\">\n",
              "    <path d=\"M0 0h24v24H0V0z\" fill=\"none\"/>\n",
              "    <path d=\"M18.56 5.44l.94 2.06.94-2.06 2.06-.94-2.06-.94-.94-2.06-.94 2.06-2.06.94zm-11 1L8.5 8.5l.94-2.06 2.06-.94-2.06-.94L8.5 2.5l-.94 2.06-2.06.94zm10 10l.94 2.06.94-2.06 2.06-.94-2.06-.94-.94-2.06-.94 2.06-2.06.94z\"/><path d=\"M17.41 7.96l-1.37-1.37c-.4-.4-.92-.59-1.43-.59-.52 0-1.04.2-1.43.59L10.3 9.45l-7.72 7.72c-.78.78-.78 2.05 0 2.83L4 21.41c.39.39.9.59 1.41.59.51 0 1.02-.2 1.41-.59l7.78-7.78 2.81-2.81c.8-.78.8-2.07 0-2.86zM5.41 20L4 18.59l7.72-7.72 1.47 1.35L5.41 20z\"/>\n",
              "  </svg>\n",
              "      </button>\n",
              "      \n",
              "  <style>\n",
              "    .colab-df-container {\n",
              "      display:flex;\n",
              "      flex-wrap:wrap;\n",
              "      gap: 12px;\n",
              "    }\n",
              "\n",
              "    .colab-df-convert {\n",
              "      background-color: #E8F0FE;\n",
              "      border: none;\n",
              "      border-radius: 50%;\n",
              "      cursor: pointer;\n",
              "      display: none;\n",
              "      fill: #1967D2;\n",
              "      height: 32px;\n",
              "      padding: 0 0 0 0;\n",
              "      width: 32px;\n",
              "    }\n",
              "\n",
              "    .colab-df-convert:hover {\n",
              "      background-color: #E2EBFA;\n",
              "      box-shadow: 0px 1px 2px rgba(60, 64, 67, 0.3), 0px 1px 3px 1px rgba(60, 64, 67, 0.15);\n",
              "      fill: #174EA6;\n",
              "    }\n",
              "\n",
              "    [theme=dark] .colab-df-convert {\n",
              "      background-color: #3B4455;\n",
              "      fill: #D2E3FC;\n",
              "    }\n",
              "\n",
              "    [theme=dark] .colab-df-convert:hover {\n",
              "      background-color: #434B5C;\n",
              "      box-shadow: 0px 1px 3px 1px rgba(0, 0, 0, 0.15);\n",
              "      filter: drop-shadow(0px 1px 2px rgba(0, 0, 0, 0.3));\n",
              "      fill: #FFFFFF;\n",
              "    }\n",
              "  </style>\n",
              "\n",
              "      <script>\n",
              "        const buttonEl =\n",
              "          document.querySelector('#df-3b342092-134a-404f-b056-fe7fb59c524b button.colab-df-convert');\n",
              "        buttonEl.style.display =\n",
              "          google.colab.kernel.accessAllowed ? 'block' : 'none';\n",
              "\n",
              "        async function convertToInteractive(key) {\n",
              "          const element = document.querySelector('#df-3b342092-134a-404f-b056-fe7fb59c524b');\n",
              "          const dataTable =\n",
              "            await google.colab.kernel.invokeFunction('convertToInteractive',\n",
              "                                                     [key], {});\n",
              "          if (!dataTable) return;\n",
              "\n",
              "          const docLinkHtml = 'Like what you see? Visit the ' +\n",
              "            '<a target=\"_blank\" href=https://colab.research.google.com/notebooks/data_table.ipynb>data table notebook</a>'\n",
              "            + ' to learn more about interactive tables.';\n",
              "          element.innerHTML = '';\n",
              "          dataTable['output_type'] = 'display_data';\n",
              "          await google.colab.output.renderOutput(dataTable, element);\n",
              "          const docLink = document.createElement('div');\n",
              "          docLink.innerHTML = docLinkHtml;\n",
              "          element.appendChild(docLink);\n",
              "        }\n",
              "      </script>\n",
              "    </div>\n",
              "  </div>\n",
              "  "
            ],
            "text/plain": [
              "   город  ...                                               proj\n",
              "0  Тында  ...  110-112 будет установлено 8 лавочек, 6 качелей...\n",
              "4  Тында  ...                                               None\n",
              "\n",
              "[2 rows x 7 columns]"
            ]
          },
          "metadata": {},
          "execution_count": 339
        }
      ]
    },
    {
      "cell_type": "code",
      "source": [
        "text = quary[quary['norm_address'] == context['street']]['proj']\n",
        "text.value"
      ],
      "metadata": {
        "colab": {
          "base_uri": "https://localhost:8080/"
        },
        "id": "W2i0UNvyd5rO",
        "outputId": "342e2767-d900-490f-eea4-ba592f769355"
      },
      "execution_count": 341,
      "outputs": [
        {
          "output_type": "execute_result",
          "data": {
            "text/plain": [
              "0    110-112 будет установлено 8 лавочек, 6 качелей...\n",
              "Name: proj, dtype: object"
            ]
          },
          "metadata": {},
          "execution_count": 341
        }
      ]
    },
    {
      "cell_type": "code",
      "source": [
        "faq(['Участвует двор на улице Японская 666 в Вожаевке в программе?'])"
      ],
      "metadata": {
        "colab": {
          "base_uri": "https://localhost:8080/"
        },
        "id": "9g1nMbuWiYSL",
        "outputId": "eb6ff96a-1017-4bf9-bb7b-fe9193132964"
      },
      "execution_count": 356,
      "outputs": [
        {
          "output_type": "execute_result",
          "data": {
            "text/plain": [
              "[['state1'],\n",
              " [[0.7923871256607374,\n",
              "   0.006429901927371733,\n",
              "   0.1980862487628603,\n",
              "   0.003096723649030567]]]"
            ]
          },
          "metadata": {},
          "execution_count": 356
        }
      ]
    },
    {
      "cell_type": "code",
      "source": [
        "## !!< Баг!"
      ],
      "metadata": {
        "id": "xopJnZs7iylW"
      },
      "execution_count": null,
      "outputs": []
    },
    {
      "cell_type": "code",
      "source": [
        "faq(['Сколько качелей будет установлено в Тынде на улице Студенческая 21?'])"
      ],
      "metadata": {
        "colab": {
          "base_uri": "https://localhost:8080/"
        },
        "id": "crVmamYNdZHB",
        "outputId": "392a3c43-996e-4413-a4e6-cde4913bd0e9"
      },
      "execution_count": 351,
      "outputs": [
        {
          "output_type": "execute_result",
          "data": {
            "text/plain": [
              "[['state3'],\n",
              " [[0.0009557733961661296,\n",
              "   0.025371147100208224,\n",
              "   0.9298621232677957,\n",
              "   0.04381095623582994]]]"
            ]
          },
          "metadata": {},
          "execution_count": 351
        }
      ]
    },
    {
      "cell_type": "code",
      "source": [
        ""
      ],
      "metadata": {
        "id": "9Rh_9dZadxAS"
      },
      "execution_count": 357,
      "outputs": []
    },
    {
      "cell_type": "code",
      "source": [
        ""
      ],
      "metadata": {
        "id": "fAHGVtSgdLo-"
      },
      "execution_count": 330,
      "outputs": []
    },
    {
      "cell_type": "code",
      "source": [
        ""
      ],
      "metadata": {
        "id": "vsCASb-rDni1"
      },
      "execution_count": 330,
      "outputs": []
    },
    {
      "cell_type": "code",
      "source": [
        ""
      ],
      "metadata": {
        "id": "7a7RdOw1MfKv"
      },
      "execution_count": 308,
      "outputs": []
    },
    {
      "cell_type": "code",
      "source": [
        "main()"
      ],
      "metadata": {
        "colab": {
          "base_uri": "https://localhost:8080/"
        },
        "id": "F1VMmsmYHv0v",
        "outputId": "ba712a51-1fa7-46f8-cafa-f8e5f8142b3e"
      },
      "execution_count": 288,
      "outputs": [
        {
          "name": "stdout",
          "output_type": "stream",
          "text": [
            "/start\n",
            "Привет 👋, чем я могу помочь?\n",
            "Привет, подскажи, участвует ли двор на улице Ленина 145 в программе?\n",
            "Вы не ввели город 😉\n",
            "Давай Благовещенск\n",
            "Вы не ввели город 😉\n",
            "Благовещенск\n",
            "Двор не участвует в программе\n",
            "участвует ли двор на улице Ленина 12 в программе?\n",
            "Двор участвует в программе\n",
            "Участвует ли в программе улица Студенческая 21?\n",
            "Двор не участвует в программе\n",
            "Участвует ли в программе улица Студенческая 21  в Тынде?\n",
            "Двор участвует в программе\n",
            "Сколько дворов участвует в программе?\n",
            "9\n",
            "Когда закончится обустройство на Студенческой 21?\n",
            "студенческий 21 :  12.12.22 - 01.02.23\n",
            "Когда закончатся работы на улице Фрунзе 109 в Благовещенске?\n",
            "фрунзе 109 :  04.04.22 - 01.02.23\n",
            "/stop\n"
          ]
        }
      ]
    },
    {
      "cell_type": "code",
      "source": [
        ""
      ],
      "metadata": {
        "id": "APQB10bmIQhJ"
      },
      "execution_count": 283,
      "outputs": []
    },
    {
      "cell_type": "code",
      "source": [
        ""
      ],
      "metadata": {
        "id": "gXqw-ZMlIAx2"
      },
      "execution_count": 283,
      "outputs": []
    },
    {
      "cell_type": "code",
      "source": [
        "text = \"\"\"На Ленина 110-112 будет установлено 8 лавочек, 6 качелей, 2 детских игровых комплексов, \n",
        "1 карусель, 144 квадратных метра плитки, 67 метра леерного ограждения.\"\"\"\n",
        "squad([text], ['Сколько будет установлено качелей во дворе на улице Ленина 196?'])[0][0]\n"
      ],
      "metadata": {
        "colab": {
          "base_uri": "https://localhost:8080/",
          "height": 35
        },
        "id": "mv-i2PLjLjUh",
        "outputId": "b5b160e0-3cc6-40a8-ddab-e2ba2ae56a4a"
      },
      "execution_count": 302,
      "outputs": [
        {
          "output_type": "execute_result",
          "data": {
            "application/vnd.google.colaboratory.intrinsic+json": {
              "type": "string"
            },
            "text/plain": [
              "'6'"
            ]
          },
          "metadata": {},
          "execution_count": 302
        }
      ]
    },
    {
      "cell_type": "code",
      "source": [
        "text[36:]"
      ],
      "metadata": {
        "colab": {
          "base_uri": "https://localhost:8080/",
          "height": 53
        },
        "id": "jAEhlR8ALoKa",
        "outputId": "70b75937-ab2e-4267-8ca8-023240f11534"
      },
      "execution_count": 293,
      "outputs": [
        {
          "output_type": "execute_result",
          "data": {
            "application/vnd.google.colaboratory.intrinsic+json": {
              "type": "string"
            },
            "text/plain": [
              "'8 лавочек, 6 качелей, 2 детских игровых комплексов, \\n1 карусель, 144 квадратных метра плитки, 67 метра леерного ограждения.'"
            ]
          },
          "metadata": {},
          "execution_count": 293
        }
      ]
    },
    {
      "cell_type": "code",
      "source": [
        "state, threshold = faq([question])"
      ],
      "metadata": {
        "id": "oMCzsF9BT7UA"
      },
      "execution_count": 303,
      "outputs": []
    },
    {
      "cell_type": "code",
      "source": [
        "threshold"
      ],
      "metadata": {
        "colab": {
          "base_uri": "https://localhost:8080/"
        },
        "id": "te7J4CU-WuqM",
        "outputId": "265afb31-ba6c-4c91-8c7d-0ee04856cafe"
      },
      "execution_count": 305,
      "outputs": [
        {
          "output_type": "execute_result",
          "data": {
            "text/plain": [
              "[[0.004134446011396008,\n",
              "  0.9767034124644673,\n",
              "  0.005428488541833146,\n",
              "  0.013733652982303614]]"
            ]
          },
          "metadata": {},
          "execution_count": 305
        }
      ]
    },
    {
      "cell_type": "code",
      "source": [
        ""
      ],
      "metadata": {
        "id": "4_Oa0ADaWvip"
      },
      "execution_count": null,
      "outputs": []
    }
  ]
}