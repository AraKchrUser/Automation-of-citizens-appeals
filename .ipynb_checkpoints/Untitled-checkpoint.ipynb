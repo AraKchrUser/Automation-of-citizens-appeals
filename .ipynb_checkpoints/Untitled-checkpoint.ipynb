{
 "cells": [
  {
   "cell_type": "code",
   "execution_count": 4,
   "id": "fd58fd55",
   "metadata": {},
   "outputs": [],
   "source": [
    "import pandas as pd"
   ]
  },
  {
   "cell_type": "code",
   "execution_count": 2,
   "id": "f140a6a4",
   "metadata": {},
   "outputs": [
    {
     "name": "stderr",
     "output_type": "stream",
     "text": [
      "2022-01-23 15:27:38.427 INFO in 'deeppavlov.dataset_readers.dstc2_reader'['dstc2_reader'] at line 290: [loading dialogs from my_data/simple-dstc2-trn.json]\n",
      "2022-01-23 15:27:38.568 INFO in 'deeppavlov.dataset_readers.dstc2_reader'['dstc2_reader'] at line 290: [loading dialogs from my_data/simple-dstc2-val.json]\n",
      "2022-01-23 15:27:38.614 INFO in 'deeppavlov.dataset_readers.dstc2_reader'['dstc2_reader'] at line 290: [loading dialogs from my_data/simple-dstc2-tst.json]\n",
      "2022-01-23 15:27:38.734 INFO in 'deeppavlov.dataset_readers.dstc2_reader'['dstc2_reader'] at line 282: There are 9115 samples in train split.\n",
      "2022-01-23 15:27:38.735 INFO in 'deeppavlov.dataset_readers.dstc2_reader'['dstc2_reader'] at line 283: There are 6231 samples in valid split.\n",
      "2022-01-23 15:27:38.735 INFO in 'deeppavlov.dataset_readers.dstc2_reader'['dstc2_reader'] at line 284: There are 6345 samples in test split.\n"
     ]
    }
   ],
   "source": [
    "from deeppavlov.dataset_readers.dstc2_reader import SimpleDSTC2DatasetReader\n",
    "\n",
    "data = SimpleDSTC2DatasetReader().read('my_data');"
   ]
  },
  {
   "cell_type": "code",
   "execution_count": 3,
   "id": "feca271c",
   "metadata": {},
   "outputs": [
    {
     "name": "stdout",
     "output_type": "stream",
     "text": [
      "simple-dstc2-templates.txt  simple-dstc2-tst.json\r\n",
      "simple-dstc2-trn.json\t    simple-dstc2-val.json\r\n"
     ]
    }
   ],
   "source": [
    "!ls my_data"
   ]
  },
  {
   "cell_type": "code",
   "execution_count": null,
   "id": "b87de579",
   "metadata": {},
   "outputs": [],
   "source": [
    "# Шаблоны ответов - содержат дейсвтие диалога и ответ. Ответы могут содержать имена слотов, которые \n",
    "# который будет заполняться при разговоре"
   ]
  },
  {
   "cell_type": "code",
   "execution_count": null,
   "id": "e8c5bda5",
   "metadata": {},
   "outputs": [],
   "source": []
  },
  {
   "cell_type": "markdown",
   "id": "73aa3138",
   "metadata": {},
   "source": [
    "#  Templates"
   ]
  },
  {
   "cell_type": "code",
   "execution_count": 11,
   "id": "cff6f49b",
   "metadata": {},
   "outputs": [],
   "source": [
    "templates = pd.read_table('my_data/simple-dstc2-templates.txt', header=None)"
   ]
  },
  {
   "cell_type": "code",
   "execution_count": null,
   "id": "a886dd8e",
   "metadata": {},
   "outputs": [],
   "source": []
  },
  {
   "cell_type": "markdown",
   "id": "ae5af052",
   "metadata": {},
   "source": [
    "# Slot filler"
   ]
  },
  {
   "cell_type": "markdown",
   "id": "531556f0",
   "metadata": {},
   "source": [
    "#### разобрать архитектуру"
   ]
  },
  {
   "cell_type": "code",
   "execution_count": 13,
   "id": "43e7f599",
   "metadata": {},
   "outputs": [
    {
     "name": "stderr",
     "output_type": "stream",
     "text": [
      "2022-01-23 15:58:52.208 INFO in 'deeppavlov.core.data.utils'['utils'] at line 95: Downloading from http://files.deeppavlov.ai/deeppavlov_data/dstc_slot_vals.tar.gz to my_bot/slotfill/dstc_slot_vals.tar.gz\n",
      "100%|██████████| 1.62k/1.62k [00:00<00:00, 805kB/s]\n",
      "2022-01-23 15:58:55.663 INFO in 'deeppavlov.core.data.utils'['utils'] at line 272: Extracting my_bot/slotfill/dstc_slot_vals.tar.gz archive into my_bot/slotfill\n"
     ]
    }
   ],
   "source": [
    "from deeppavlov.download import download_decompress\n",
    "\n",
    "download_decompress(url='http://files.deeppavlov.ai/deeppavlov_data/dstc_slot_vals.tar.gz',\n",
    "                    download_path='my_bot/slotfill')"
   ]
  },
  {
   "cell_type": "code",
   "execution_count": 14,
   "id": "897451ee",
   "metadata": {},
   "outputs": [
    {
     "name": "stderr",
     "output_type": "stream",
     "text": [
      "2022-01-23 16:04:40.43 INFO in 'deeppavlov.dataset_readers.dstc2_reader'['dstc2_reader'] at line 290: [loading dialogs from /home/user/src/bot/my_data/simple-dstc2-trn.json]\n",
      "2022-01-23 16:04:40.223 INFO in 'deeppavlov.dataset_readers.dstc2_reader'['dstc2_reader'] at line 290: [loading dialogs from /home/user/src/bot/my_data/simple-dstc2-val.json]\n",
      "2022-01-23 16:04:40.267 INFO in 'deeppavlov.dataset_readers.dstc2_reader'['dstc2_reader'] at line 290: [loading dialogs from /home/user/src/bot/my_data/simple-dstc2-tst.json]\n",
      "2022-01-23 16:04:40.441 INFO in 'deeppavlov.dataset_readers.dstc2_reader'['dstc2_reader'] at line 282: There are 9115 samples in train split.\n",
      "2022-01-23 16:04:40.442 INFO in 'deeppavlov.dataset_readers.dstc2_reader'['dstc2_reader'] at line 283: There are 6231 samples in valid split.\n",
      "2022-01-23 16:04:40.443 INFO in 'deeppavlov.dataset_readers.dstc2_reader'['dstc2_reader'] at line 284: There are 6345 samples in test split.\n",
      "[nltk_data] Downloading package punkt to /home/user/nltk_data...\n",
      "[nltk_data]   Package punkt is already up-to-date!\n",
      "[nltk_data] Downloading package stopwords to /home/user/nltk_data...\n",
      "[nltk_data]   Package stopwords is already up-to-date!\n",
      "[nltk_data] Downloading package perluniprops to\n",
      "[nltk_data]     /home/user/nltk_data...\n",
      "[nltk_data]   Package perluniprops is already up-to-date!\n",
      "[nltk_data] Downloading package nonbreaking_prefixes to\n",
      "[nltk_data]     /home/user/nltk_data...\n",
      "[nltk_data]   Package nonbreaking_prefixes is already up-to-date!\n"
     ]
    },
    {
     "name": "stdout",
     "output_type": "stream",
     "text": [
      "{\"valid\": {\"eval_examples_count\": 1444, \"metrics\": {\"slots_accuracy\": 0.9307}, \"time_spent\": \"0:00:31\"}}\n",
      "{\"test\": {\"eval_examples_count\": 1386, \"metrics\": {\"slots_accuracy\": 0.9481}, \"time_spent\": \"0:00:28\"}}\n"
     ]
    }
   ],
   "source": [
    "from deeppavlov import configs\n",
    "from deeppavlov.core.common.file import read_json\n",
    "\n",
    "slotfill_config = read_json(configs.ner.slotfill_simple_dstc2_raw)\n",
    "\n",
    "slotfill_config['metadata']['variables']['DATA_PATH'] = 'my_data'\n",
    "slotfill_config['metadata']['variables']['SLOT_VALS_PATH'] = 'my_bot/slotfill/dstc_slot_vals.json'\n",
    "\n",
    "from deeppavlov import evaluate_model\n",
    "\n",
    "slotfill = evaluate_model(slotfill_config);\n",
    "\n",
    "\n",
    "\n",
    "from deeppavlov import build_model\n",
    "\n",
    "slotfill = build_model(slotfill_config)\n",
    "\n"
   ]
  },
  {
   "cell_type": "code",
   "execution_count": 20,
   "id": "7fd31b27",
   "metadata": {},
   "outputs": [
    {
     "data": {
      "text/plain": [
       "[{'food': 'chinese', 'pricerange': 'expensive', 'area': 'centre'}]"
      ]
     },
     "execution_count": 20,
     "metadata": {},
     "output_type": "execute_result"
    }
   ],
   "source": [
    "\n",
    "\n",
    "slotfill(['I want an expensive restaurant in the center of Moscow with Сhinese food'])\n",
    "\n"
   ]
  },
  {
   "cell_type": "code",
   "execution_count": 21,
   "id": "71dec2af",
   "metadata": {},
   "outputs": [],
   "source": [
    "import json\n",
    "\n",
    "json.dump(slotfill_config, open('my_bot/slotfill_config.json', 'wt'))"
   ]
  },
  {
   "cell_type": "code",
   "execution_count": null,
   "id": "bda36d2b",
   "metadata": {},
   "outputs": [],
   "source": []
  }
 ],
 "metadata": {
  "kernelspec": {
   "display_name": "Python 3",
   "language": "python",
   "name": "python3"
  },
  "language_info": {
   "codemirror_mode": {
    "name": "ipython",
    "version": 3
   },
   "file_extension": ".py",
   "mimetype": "text/x-python",
   "name": "python",
   "nbconvert_exporter": "python",
   "pygments_lexer": "ipython3",
   "version": "3.6.15"
  }
 },
 "nbformat": 4,
 "nbformat_minor": 5
}
